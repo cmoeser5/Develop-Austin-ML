{
 "cells": [
  {
   "cell_type": "code",
   "execution_count": 1,
   "metadata": {},
   "outputs": [],
   "source": [
    "import pandas as pd\n",
    "from sklearn.model_selection import train_test_split\n",
    "from sklearn.linear_model import LinearRegression\n",
    "from sklearn.tree import DecisionTreeRegressor\n",
    "from sklearn.ensemble import RandomForestRegressor\n",
    "from sklearn.pipeline import make_pipeline\n",
    "from sklearn.preprocessing import OneHotEncoder\n",
    "from sklearn.compose import ColumnTransformer\n",
    "from sklearn.metrics import mean_squared_error\n",
    "from sklearn.svm import LinearSVR\n",
    "from sklearn.model_selection import cross_validate\n",
    "from sklearn.model_selection import KFold\n",
    "from sklearn.preprocessing import LabelEncoder\n",
    "import numpy as np\n",
    "from joblib import dump\n"
   ]
  },
  {
   "cell_type": "code",
   "execution_count": 2,
   "metadata": {},
   "outputs": [
    {
     "data": {
      "text/plain": [
       "Index([                   'name',                  'rating',\n",
       "            'user_ratings_total',                'latitude',\n",
       "                     'longitude',         'latitude_region',\n",
       "                             nan,           'shopping_mall',\n",
       "                'clothing_store',         'natural_feature',\n",
       "                 'travel_agency',                    'food',\n",
       "             'point_of_interest',                   'store',\n",
       "                 'meal_delivery',                    'park',\n",
       "                  'liquor_store',             'gas_station',\n",
       "                    'restaurant',                    'cafe',\n",
       "                 'meal_takeaway',           'movie_theater',\n",
       "        'grocery_or_supermarket',              'night_club',\n",
       "                     'hair_care',                 'finance',\n",
       "                           'bar',             'art_gallery',\n",
       "            'tourist_attraction',                'cemetery',\n",
       "                   'supermarket',      'real_estate_agency',\n",
       "                        'bakery',           'jewelry_store',\n",
       "              'place_of_worship',                  'church',\n",
       "       'local_government_office',        'home_goods_store',\n",
       "                        'museum',                'car_wash',\n",
       "                    'car_repair',                'aquarium',\n",
       "                 'establishment'],\n",
       "      dtype='object')"
      ]
     },
     "execution_count": 2,
     "metadata": {},
     "output_type": "execute_result"
    }
   ],
   "source": [
    "df = pd.read_csv(\"../data/location3.csv\").drop(columns =[\"id\",\"types\"], axis=1)\n",
    "\n",
    "df\n",
    "\n",
    "types_cols = [col for col in df.columns if col.startswith(\"type\")]\n",
    "\n",
    "df[types_cols] = df[types_cols].apply(lambda s: s.str.lstrip())\n",
    "\n",
    "unique_values = set()\n",
    "\n",
    "# for col in types_cols:\n",
    "#     unique_values = unique_values.union(set(df[\"types1\"].values))\n",
    "\n",
    "for col in types_cols:\n",
    "    unique_values = unique_values.union(set(df[col].values))\n",
    "    \n",
    "df[\"types\"] = df[types_cols].apply(lambda row: set(row), axis=1)\n",
    "\n",
    "boolean_features = {}\n",
    "\n",
    "for category in unique_values:\n",
    "    boolean_features[category] = df[\"types\"].apply(lambda s: category in s)\n",
    "    \n",
    "boolean_df = pd.DataFrame(boolean_features)\n",
    "\n",
    "boolean_df\n",
    "\n",
    "df = pd.concat([df, boolean_df], axis=1).drop([*types_cols, \"types\"], axis=1)\n",
    "df.columns"
   ]
  },
  {
   "cell_type": "code",
   "execution_count": 3,
   "metadata": {},
   "outputs": [
    {
     "data": {
      "text/html": [
       "<div>\n",
       "<style scoped>\n",
       "    .dataframe tbody tr th:only-of-type {\n",
       "        vertical-align: middle;\n",
       "    }\n",
       "\n",
       "    .dataframe tbody tr th {\n",
       "        vertical-align: top;\n",
       "    }\n",
       "\n",
       "    .dataframe thead th {\n",
       "        text-align: right;\n",
       "    }\n",
       "</style>\n",
       "<table border=\"1\" class=\"dataframe\">\n",
       "  <thead>\n",
       "    <tr style=\"text-align: right;\">\n",
       "      <th></th>\n",
       "      <th>name</th>\n",
       "      <th>rating</th>\n",
       "      <th>user_ratings_total</th>\n",
       "      <th>latitude</th>\n",
       "      <th>longitude</th>\n",
       "      <th>latitude_region</th>\n",
       "      <th>NaN</th>\n",
       "      <th>shopping_mall</th>\n",
       "      <th>clothing_store</th>\n",
       "      <th>natural_feature</th>\n",
       "      <th>...</th>\n",
       "      <th>jewelry_store</th>\n",
       "      <th>place_of_worship</th>\n",
       "      <th>church</th>\n",
       "      <th>local_government_office</th>\n",
       "      <th>home_goods_store</th>\n",
       "      <th>museum</th>\n",
       "      <th>car_wash</th>\n",
       "      <th>car_repair</th>\n",
       "      <th>aquarium</th>\n",
       "      <th>establishment</th>\n",
       "    </tr>\n",
       "  </thead>\n",
       "  <tbody>\n",
       "    <tr>\n",
       "      <th>0</th>\n",
       "      <td>Mikado Ryotei</td>\n",
       "      <td>4.5</td>\n",
       "      <td>369.0</td>\n",
       "      <td>30.373440</td>\n",
       "      <td>-97.724686</td>\n",
       "      <td>North</td>\n",
       "      <td>True</td>\n",
       "      <td>False</td>\n",
       "      <td>False</td>\n",
       "      <td>False</td>\n",
       "      <td>...</td>\n",
       "      <td>False</td>\n",
       "      <td>False</td>\n",
       "      <td>False</td>\n",
       "      <td>False</td>\n",
       "      <td>False</td>\n",
       "      <td>False</td>\n",
       "      <td>False</td>\n",
       "      <td>False</td>\n",
       "      <td>False</td>\n",
       "      <td>True</td>\n",
       "    </tr>\n",
       "    <tr>\n",
       "      <th>1</th>\n",
       "      <td>Earl J. Pomerleau Pocket Park</td>\n",
       "      <td>4.3</td>\n",
       "      <td>6.0</td>\n",
       "      <td>30.318483</td>\n",
       "      <td>-97.686791</td>\n",
       "      <td>North</td>\n",
       "      <td>True</td>\n",
       "      <td>False</td>\n",
       "      <td>False</td>\n",
       "      <td>False</td>\n",
       "      <td>...</td>\n",
       "      <td>False</td>\n",
       "      <td>False</td>\n",
       "      <td>False</td>\n",
       "      <td>False</td>\n",
       "      <td>False</td>\n",
       "      <td>False</td>\n",
       "      <td>False</td>\n",
       "      <td>False</td>\n",
       "      <td>False</td>\n",
       "      <td>True</td>\n",
       "    </tr>\n",
       "    <tr>\n",
       "      <th>2</th>\n",
       "      <td>La Placita</td>\n",
       "      <td>4.4</td>\n",
       "      <td>241.0</td>\n",
       "      <td>30.194589</td>\n",
       "      <td>-97.745189</td>\n",
       "      <td>Central</td>\n",
       "      <td>True</td>\n",
       "      <td>False</td>\n",
       "      <td>False</td>\n",
       "      <td>False</td>\n",
       "      <td>...</td>\n",
       "      <td>False</td>\n",
       "      <td>False</td>\n",
       "      <td>False</td>\n",
       "      <td>False</td>\n",
       "      <td>False</td>\n",
       "      <td>False</td>\n",
       "      <td>False</td>\n",
       "      <td>False</td>\n",
       "      <td>False</td>\n",
       "      <td>True</td>\n",
       "    </tr>\n",
       "    <tr>\n",
       "      <th>3</th>\n",
       "      <td>Dittmar District Park</td>\n",
       "      <td>4.4</td>\n",
       "      <td>297.0</td>\n",
       "      <td>30.182571</td>\n",
       "      <td>-97.799721</td>\n",
       "      <td>Central</td>\n",
       "      <td>True</td>\n",
       "      <td>False</td>\n",
       "      <td>False</td>\n",
       "      <td>False</td>\n",
       "      <td>...</td>\n",
       "      <td>False</td>\n",
       "      <td>False</td>\n",
       "      <td>False</td>\n",
       "      <td>False</td>\n",
       "      <td>False</td>\n",
       "      <td>False</td>\n",
       "      <td>False</td>\n",
       "      <td>False</td>\n",
       "      <td>False</td>\n",
       "      <td>True</td>\n",
       "    </tr>\n",
       "    <tr>\n",
       "      <th>4</th>\n",
       "      <td>Rosa's Café &amp; Tortilla Factory</td>\n",
       "      <td>4.2</td>\n",
       "      <td>1305.0</td>\n",
       "      <td>30.171329</td>\n",
       "      <td>-97.799098</td>\n",
       "      <td>Central</td>\n",
       "      <td>True</td>\n",
       "      <td>False</td>\n",
       "      <td>False</td>\n",
       "      <td>False</td>\n",
       "      <td>...</td>\n",
       "      <td>False</td>\n",
       "      <td>False</td>\n",
       "      <td>False</td>\n",
       "      <td>False</td>\n",
       "      <td>False</td>\n",
       "      <td>False</td>\n",
       "      <td>False</td>\n",
       "      <td>False</td>\n",
       "      <td>False</td>\n",
       "      <td>True</td>\n",
       "    </tr>\n",
       "    <tr>\n",
       "      <th>...</th>\n",
       "      <td>...</td>\n",
       "      <td>...</td>\n",
       "      <td>...</td>\n",
       "      <td>...</td>\n",
       "      <td>...</td>\n",
       "      <td>...</td>\n",
       "      <td>...</td>\n",
       "      <td>...</td>\n",
       "      <td>...</td>\n",
       "      <td>...</td>\n",
       "      <td>...</td>\n",
       "      <td>...</td>\n",
       "      <td>...</td>\n",
       "      <td>...</td>\n",
       "      <td>...</td>\n",
       "      <td>...</td>\n",
       "      <td>...</td>\n",
       "      <td>...</td>\n",
       "      <td>...</td>\n",
       "      <td>...</td>\n",
       "      <td>...</td>\n",
       "    </tr>\n",
       "    <tr>\n",
       "      <th>382</th>\n",
       "      <td>Heritage Oaks Neighborhood Park</td>\n",
       "      <td>4.7</td>\n",
       "      <td>43.0</td>\n",
       "      <td>30.234326</td>\n",
       "      <td>-97.737227</td>\n",
       "      <td>North</td>\n",
       "      <td>True</td>\n",
       "      <td>False</td>\n",
       "      <td>False</td>\n",
       "      <td>False</td>\n",
       "      <td>...</td>\n",
       "      <td>False</td>\n",
       "      <td>False</td>\n",
       "      <td>False</td>\n",
       "      <td>False</td>\n",
       "      <td>False</td>\n",
       "      <td>False</td>\n",
       "      <td>False</td>\n",
       "      <td>False</td>\n",
       "      <td>False</td>\n",
       "      <td>True</td>\n",
       "    </tr>\n",
       "    <tr>\n",
       "      <th>383</th>\n",
       "      <td>Centre North</td>\n",
       "      <td>3.6</td>\n",
       "      <td>16.0</td>\n",
       "      <td>30.351838</td>\n",
       "      <td>-97.709802</td>\n",
       "      <td>North</td>\n",
       "      <td>True</td>\n",
       "      <td>True</td>\n",
       "      <td>False</td>\n",
       "      <td>False</td>\n",
       "      <td>...</td>\n",
       "      <td>False</td>\n",
       "      <td>False</td>\n",
       "      <td>False</td>\n",
       "      <td>False</td>\n",
       "      <td>False</td>\n",
       "      <td>False</td>\n",
       "      <td>False</td>\n",
       "      <td>False</td>\n",
       "      <td>False</td>\n",
       "      <td>True</td>\n",
       "    </tr>\n",
       "    <tr>\n",
       "      <th>384</th>\n",
       "      <td>Oak Acres</td>\n",
       "      <td>4.8</td>\n",
       "      <td>5.0</td>\n",
       "      <td>30.237034</td>\n",
       "      <td>-97.846914</td>\n",
       "      <td>North</td>\n",
       "      <td>True</td>\n",
       "      <td>True</td>\n",
       "      <td>False</td>\n",
       "      <td>False</td>\n",
       "      <td>...</td>\n",
       "      <td>False</td>\n",
       "      <td>False</td>\n",
       "      <td>False</td>\n",
       "      <td>False</td>\n",
       "      <td>False</td>\n",
       "      <td>False</td>\n",
       "      <td>False</td>\n",
       "      <td>False</td>\n",
       "      <td>False</td>\n",
       "      <td>True</td>\n",
       "    </tr>\n",
       "    <tr>\n",
       "      <th>385</th>\n",
       "      <td>Burgerlicious</td>\n",
       "      <td>5.0</td>\n",
       "      <td>18.0</td>\n",
       "      <td>30.272704</td>\n",
       "      <td>-97.728530</td>\n",
       "      <td>North</td>\n",
       "      <td>True</td>\n",
       "      <td>False</td>\n",
       "      <td>False</td>\n",
       "      <td>False</td>\n",
       "      <td>...</td>\n",
       "      <td>False</td>\n",
       "      <td>False</td>\n",
       "      <td>False</td>\n",
       "      <td>False</td>\n",
       "      <td>False</td>\n",
       "      <td>False</td>\n",
       "      <td>False</td>\n",
       "      <td>False</td>\n",
       "      <td>False</td>\n",
       "      <td>True</td>\n",
       "    </tr>\n",
       "    <tr>\n",
       "      <th>386</th>\n",
       "      <td>P Men's Club</td>\n",
       "      <td>5.0</td>\n",
       "      <td>5.0</td>\n",
       "      <td>30.219131</td>\n",
       "      <td>-97.758263</td>\n",
       "      <td>North</td>\n",
       "      <td>True</td>\n",
       "      <td>False</td>\n",
       "      <td>False</td>\n",
       "      <td>False</td>\n",
       "      <td>...</td>\n",
       "      <td>False</td>\n",
       "      <td>False</td>\n",
       "      <td>False</td>\n",
       "      <td>False</td>\n",
       "      <td>False</td>\n",
       "      <td>False</td>\n",
       "      <td>False</td>\n",
       "      <td>False</td>\n",
       "      <td>False</td>\n",
       "      <td>True</td>\n",
       "    </tr>\n",
       "  </tbody>\n",
       "</table>\n",
       "<p>387 rows × 43 columns</p>\n",
       "</div>"
      ],
      "text/plain": [
       "                                name  rating  user_ratings_total   latitude  \\\n",
       "0                      Mikado Ryotei     4.5               369.0  30.373440   \n",
       "1      Earl J. Pomerleau Pocket Park     4.3                 6.0  30.318483   \n",
       "2                         La Placita     4.4               241.0  30.194589   \n",
       "3              Dittmar District Park     4.4               297.0  30.182571   \n",
       "4     Rosa's Café & Tortilla Factory     4.2              1305.0  30.171329   \n",
       "..                               ...     ...                 ...        ...   \n",
       "382  Heritage Oaks Neighborhood Park     4.7                43.0  30.234326   \n",
       "383                     Centre North     3.6                16.0  30.351838   \n",
       "384                        Oak Acres     4.8                 5.0  30.237034   \n",
       "385                    Burgerlicious     5.0                18.0  30.272704   \n",
       "386                     P Men's Club     5.0                 5.0  30.219131   \n",
       "\n",
       "     longitude latitude_region   NaN  shopping_mall  clothing_store  \\\n",
       "0   -97.724686           North  True          False           False   \n",
       "1   -97.686791           North  True          False           False   \n",
       "2   -97.745189         Central  True          False           False   \n",
       "3   -97.799721         Central  True          False           False   \n",
       "4   -97.799098         Central  True          False           False   \n",
       "..         ...             ...   ...            ...             ...   \n",
       "382 -97.737227           North  True          False           False   \n",
       "383 -97.709802           North  True           True           False   \n",
       "384 -97.846914           North  True           True           False   \n",
       "385 -97.728530           North  True          False           False   \n",
       "386 -97.758263           North  True          False           False   \n",
       "\n",
       "     natural_feature  ...  jewelry_store  place_of_worship  church  \\\n",
       "0              False  ...          False             False   False   \n",
       "1              False  ...          False             False   False   \n",
       "2              False  ...          False             False   False   \n",
       "3              False  ...          False             False   False   \n",
       "4              False  ...          False             False   False   \n",
       "..               ...  ...            ...               ...     ...   \n",
       "382            False  ...          False             False   False   \n",
       "383            False  ...          False             False   False   \n",
       "384            False  ...          False             False   False   \n",
       "385            False  ...          False             False   False   \n",
       "386            False  ...          False             False   False   \n",
       "\n",
       "     local_government_office  home_goods_store  museum  car_wash  car_repair  \\\n",
       "0                      False             False   False     False       False   \n",
       "1                      False             False   False     False       False   \n",
       "2                      False             False   False     False       False   \n",
       "3                      False             False   False     False       False   \n",
       "4                      False             False   False     False       False   \n",
       "..                       ...               ...     ...       ...         ...   \n",
       "382                    False             False   False     False       False   \n",
       "383                    False             False   False     False       False   \n",
       "384                    False             False   False     False       False   \n",
       "385                    False             False   False     False       False   \n",
       "386                    False             False   False     False       False   \n",
       "\n",
       "     aquarium  establishment  \n",
       "0       False           True  \n",
       "1       False           True  \n",
       "2       False           True  \n",
       "3       False           True  \n",
       "4       False           True  \n",
       "..        ...            ...  \n",
       "382     False           True  \n",
       "383     False           True  \n",
       "384     False           True  \n",
       "385     False           True  \n",
       "386     False           True  \n",
       "\n",
       "[387 rows x 43 columns]"
      ]
     },
     "execution_count": 3,
     "metadata": {},
     "output_type": "execute_result"
    }
   ],
   "source": [
    "df"
   ]
  },
  {
   "cell_type": "code",
   "execution_count": 4,
   "metadata": {},
   "outputs": [
    {
     "data": {
      "text/plain": [
       "name                       Earl J. Pomerleau Pocket Park\n",
       "rating                                               4.3\n",
       "user_ratings_total                                     6\n",
       "latitude                                         30.3185\n",
       "longitude                                       -97.6868\n",
       "latitude_region                                    North\n",
       "NaN                                                 True\n",
       "shopping_mall                                      False\n",
       "clothing_store                                     False\n",
       "natural_feature                                    False\n",
       "travel_agency                                      False\n",
       "food                                               False\n",
       "point_of_interest                                   True\n",
       "store                                              False\n",
       "meal_delivery                                      False\n",
       "park                                                True\n",
       "liquor_store                                       False\n",
       "gas_station                                        False\n",
       "restaurant                                         False\n",
       "cafe                                               False\n",
       "meal_takeaway                                      False\n",
       "movie_theater                                      False\n",
       "grocery_or_supermarket                             False\n",
       "night_club                                         False\n",
       "hair_care                                          False\n",
       "finance                                            False\n",
       "bar                                                False\n",
       "art_gallery                                        False\n",
       "tourist_attraction                                 False\n",
       "cemetery                                           False\n",
       "supermarket                                        False\n",
       "real_estate_agency                                 False\n",
       "bakery                                             False\n",
       "jewelry_store                                      False\n",
       "place_of_worship                                   False\n",
       "church                                             False\n",
       "local_government_office                            False\n",
       "home_goods_store                                   False\n",
       "museum                                             False\n",
       "car_wash                                           False\n",
       "car_repair                                         False\n",
       "aquarium                                           False\n",
       "establishment                                       True\n",
       "Name: 1, dtype: object"
      ]
     },
     "execution_count": 4,
     "metadata": {},
     "output_type": "execute_result"
    }
   ],
   "source": [
    "df.iloc[1]"
   ]
  },
  {
   "cell_type": "code",
   "execution_count": 5,
   "metadata": {},
   "outputs": [],
   "source": [
    "df = df.set_index(\"name\")"
   ]
  },
  {
   "cell_type": "code",
   "execution_count": 6,
   "metadata": {},
   "outputs": [],
   "source": [
    "target = \"rating\""
   ]
  },
  {
   "cell_type": "code",
   "execution_count": 7,
   "metadata": {},
   "outputs": [],
   "source": [
    "X = df.drop(\n",
    "     columns=[\n",
    "        \"rating\",\n",
    "        \"latitude_region\",\n",
    "        \"user_ratings_total\",\n",
    "    ],\n",
    "    axis=1,\n",
    ").values\n",
    "y = df[target].values"
   ]
  },
  {
   "cell_type": "code",
   "execution_count": 8,
   "metadata": {},
   "outputs": [],
   "source": [
    "X_train, X_test, y_train, y_test = train_test_split(X, y, random_state=20)"
   ]
  },
  {
   "cell_type": "code",
   "execution_count": 9,
   "metadata": {},
   "outputs": [],
   "source": [
    "linear_regression = LinearRegression()"
   ]
  },
  {
   "cell_type": "code",
   "execution_count": 10,
   "metadata": {},
   "outputs": [
    {
     "data": {
      "text/plain": [
       "LinearRegression()"
      ]
     },
     "execution_count": 10,
     "metadata": {},
     "output_type": "execute_result"
    }
   ],
   "source": [
    "linear_regression.fit(X_train, y_train)"
   ]
  },
  {
   "cell_type": "code",
   "execution_count": 11,
   "metadata": {},
   "outputs": [],
   "source": [
    "y_test_pred = linear_regression.predict(X_test)"
   ]
  },
  {
   "cell_type": "code",
   "execution_count": 12,
   "metadata": {},
   "outputs": [
    {
     "data": {
      "text/plain": [
       "0.35881931782726856"
      ]
     },
     "execution_count": 12,
     "metadata": {},
     "output_type": "execute_result"
    }
   ],
   "source": [
    "mean_squared_error(y_test, y_test_pred)"
   ]
  },
  {
   "cell_type": "code",
   "execution_count": 13,
   "metadata": {},
   "outputs": [
    {
     "data": {
      "text/plain": [
       "0.5539175257731959"
      ]
     },
     "execution_count": 13,
     "metadata": {},
     "output_type": "execute_result"
    }
   ],
   "source": [
    "decision_tree = DecisionTreeRegressor()\n",
    "decision_tree.fit(X_train, y_train)\n",
    "y_test_pred = decision_tree.predict(X_test)\n",
    "mean_squared_error(y_test, y_test_pred)"
   ]
  },
  {
   "cell_type": "code",
   "execution_count": 14,
   "metadata": {},
   "outputs": [
    {
     "data": {
      "text/plain": [
       "0.3743284432989688"
      ]
     },
     "execution_count": 14,
     "metadata": {},
     "output_type": "execute_result"
    }
   ],
   "source": [
    "random_forest = RandomForestRegressor()\n",
    "random_forest.fit(X_train, y_train)\n",
    "y_test_pred = random_forest.predict(X_test)\n",
    "mean_squared_error(y_test, y_test_pred)"
   ]
  },
  {
   "cell_type": "code",
   "execution_count": 15,
   "metadata": {},
   "outputs": [
    {
     "name": "stderr",
     "output_type": "stream",
     "text": [
      "/opt/conda/lib/python3.7/site-packages/sklearn/svm/_base.py:977: ConvergenceWarning: Liblinear failed to converge, increase the number of iterations.\n",
      "  \"the number of iterations.\", ConvergenceWarning)\n"
     ]
    },
    {
     "data": {
      "text/plain": [
       "0.34465517976986537"
      ]
     },
     "execution_count": 15,
     "metadata": {},
     "output_type": "execute_result"
    }
   ],
   "source": [
    "svr = LinearSVR()\n",
    "svr.fit(X_train, y_train)\n",
    "y_test_pred = svr.predict(X_test)\n",
    "mean_squared_error(y_test, y_test_pred)"
   ]
  },
  {
   "cell_type": "code",
   "execution_count": 16,
   "metadata": {},
   "outputs": [
    {
     "data": {
      "text/plain": [
       "array([4.378])"
      ]
     },
     "execution_count": 16,
     "metadata": {},
     "output_type": "execute_result"
    }
   ],
   "source": [
    "la_placita = (\n",
    "    df.drop(\n",
    "        columns=[\n",
    "            \"rating\",\n",
    "            \"latitude_region\",\n",
    "            \"user_ratings_total\",\n",
    "        ],\n",
    "        axis=1,\n",
    "    )\n",
    "    .loc[\"La Placita\"]\n",
    "    .values\n",
    ")\n",
    "random_forest.predict([la_placita])"
   ]
  },
  {
   "cell_type": "code",
   "execution_count": 17,
   "metadata": {},
   "outputs": [
    {
     "data": {
      "text/plain": [
       "array([4.58177474])"
      ]
     },
     "execution_count": 17,
     "metadata": {},
     "output_type": "execute_result"
    }
   ],
   "source": [
    "linear_regression.predict([la_placita])"
   ]
  },
  {
   "cell_type": "code",
   "execution_count": 18,
   "metadata": {},
   "outputs": [],
   "source": [
    "lr_pipeline = make_pipeline(LinearRegression())\n",
    "decision_tree_pipeline = make_pipeline(DecisionTreeRegressor())\n",
    "random_forest_pipeline = make_pipeline(RandomForestRegressor())"
   ]
  },
  {
   "cell_type": "code",
   "execution_count": 19,
   "metadata": {},
   "outputs": [],
   "source": [
    "k_fold = KFold(n_splits=6, shuffle=True, random_state=45)"
   ]
  },
  {
   "cell_type": "code",
   "execution_count": 20,
   "metadata": {},
   "outputs": [
    {
     "data": {
      "text/plain": [
       "-0.3372398723594841"
      ]
     },
     "execution_count": 20,
     "metadata": {},
     "output_type": "execute_result"
    }
   ],
   "source": [
    "cross_validate(lr_pipeline, X, y, scoring=\"neg_mean_squared_error\", cv=k_fold)[\n",
    "    \"test_score\"\n",
    "].mean()"
   ]
  },
  {
   "cell_type": "code",
   "execution_count": 21,
   "metadata": {},
   "outputs": [
    {
     "data": {
      "text/plain": [
       "-0.4418601762820513"
      ]
     },
     "execution_count": 21,
     "metadata": {},
     "output_type": "execute_result"
    }
   ],
   "source": [
    "cross_validate(\n",
    "    decision_tree_pipeline, X, y, scoring=\"neg_mean_squared_error\", cv=k_fold\n",
    ")[\"test_score\"].mean()"
   ]
  },
  {
   "cell_type": "code",
   "execution_count": 22,
   "metadata": {},
   "outputs": [
    {
     "data": {
      "text/plain": [
       "-0.35660218617788475"
      ]
     },
     "execution_count": 22,
     "metadata": {},
     "output_type": "execute_result"
    }
   ],
   "source": [
    "cross_validate(\n",
    "    random_forest_pipeline, X, y, scoring=\"neg_mean_squared_error\", cv=k_fold\n",
    ")[\"test_score\"].mean()"
   ]
  },
  {
   "cell_type": "code",
   "execution_count": 24,
   "metadata": {},
   "outputs": [
    {
     "data": {
      "text/plain": [
       "['lr.joblib']"
      ]
     },
     "execution_count": 24,
     "metadata": {},
     "output_type": "execute_result"
    }
   ],
   "source": [
    "dump(lr_pipeline, \"lr.joblib\")"
   ]
  },
  {
   "cell_type": "code",
   "execution_count": null,
   "metadata": {},
   "outputs": [],
   "source": []
  }
 ],
 "metadata": {
  "environment": {
   "name": "common-cpu.m54",
   "type": "gcloud",
   "uri": "gcr.io/deeplearning-platform-release/base-cpu:m54"
  },
  "kernelspec": {
   "display_name": "Python 3",
   "language": "python",
   "name": "python3"
  },
  "language_info": {
   "codemirror_mode": {
    "name": "ipython",
    "version": 3
   },
   "file_extension": ".py",
   "mimetype": "text/x-python",
   "name": "python",
   "nbconvert_exporter": "python",
   "pygments_lexer": "ipython3",
   "version": "3.7.8"
  }
 },
 "nbformat": 4,
 "nbformat_minor": 4
}
