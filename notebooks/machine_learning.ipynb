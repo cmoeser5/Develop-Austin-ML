{
 "cells": [
  {
   "cell_type": "code",
   "execution_count": 1,
   "metadata": {},
   "outputs": [],
   "source": [
    "%load_ext lab_black\n",
    "import pandas as pd\n",
    "from sklearn.model_selection import train_test_split\n",
    "from sklearn.linear_model import LinearRegression\n",
    "from sklearn.tree import DecisionTreeRegressor\n",
    "from sklearn.ensemble import RandomForestRegressor\n",
    "from sklearn.pipeline import make_pipeline\n",
    "from sklearn.preprocessing import OneHotEncoder\n",
    "from sklearn.compose import ColumnTransformer\n",
    "from sklearn.metrics import mean_squared_error\n",
    "from sklearn.svm import LinearSVR\n",
    "from sklearn.model_selection import cross_validate\n",
    "from sklearn.model_selection import KFold\n"
   ]
  },
  {
   "cell_type": "code",
   "execution_count": 4,
   "metadata": {},
   "outputs": [],
   "source": [
    "df = pd.read_csv(\"../data/location3.csv\").set_index(\"name\")"
   ]
  },
  {
   "cell_type": "code",
   "execution_count": 5,
   "metadata": {},
   "outputs": [
    {
     "data": {
      "text/html": [
       "<div>\n",
       "<style scoped>\n",
       "    .dataframe tbody tr th:only-of-type {\n",
       "        vertical-align: middle;\n",
       "    }\n",
       "\n",
       "    .dataframe tbody tr th {\n",
       "        vertical-align: top;\n",
       "    }\n",
       "\n",
       "    .dataframe thead th {\n",
       "        text-align: right;\n",
       "    }\n",
       "</style>\n",
       "<table border=\"1\" class=\"dataframe\">\n",
       "  <thead>\n",
       "    <tr style=\"text-align: right;\">\n",
       "      <th></th>\n",
       "      <th>id</th>\n",
       "      <th>rating</th>\n",
       "      <th>user_ratings_total</th>\n",
       "      <th>latitude</th>\n",
       "      <th>longitude</th>\n",
       "      <th>types1</th>\n",
       "      <th>types2</th>\n",
       "      <th>types3</th>\n",
       "      <th>types4</th>\n",
       "      <th>types5</th>\n",
       "      <th>types6</th>\n",
       "      <th>types7</th>\n",
       "      <th>latitude_region</th>\n",
       "      <th>types</th>\n",
       "    </tr>\n",
       "    <tr>\n",
       "      <th>name</th>\n",
       "      <th></th>\n",
       "      <th></th>\n",
       "      <th></th>\n",
       "      <th></th>\n",
       "      <th></th>\n",
       "      <th></th>\n",
       "      <th></th>\n",
       "      <th></th>\n",
       "      <th></th>\n",
       "      <th></th>\n",
       "      <th></th>\n",
       "      <th></th>\n",
       "      <th></th>\n",
       "      <th></th>\n",
       "    </tr>\n",
       "  </thead>\n",
       "  <tbody>\n",
       "    <tr>\n",
       "      <th>Mikado Ryotei</th>\n",
       "      <td>706</td>\n",
       "      <td>4.5</td>\n",
       "      <td>369.0</td>\n",
       "      <td>30.373440</td>\n",
       "      <td>-97.724686</td>\n",
       "      <td>bar</td>\n",
       "      <td>restaurant</td>\n",
       "      <td>food</td>\n",
       "      <td>point_of_interest</td>\n",
       "      <td>establishment</td>\n",
       "      <td>NaN</td>\n",
       "      <td>NaN</td>\n",
       "      <td>North</td>\n",
       "      <td>bar, restaurant, food, point_of_interest, esta...</td>\n",
       "    </tr>\n",
       "    <tr>\n",
       "      <th>Earl J. Pomerleau Pocket Park</th>\n",
       "      <td>708</td>\n",
       "      <td>4.3</td>\n",
       "      <td>6.0</td>\n",
       "      <td>30.318483</td>\n",
       "      <td>-97.686791</td>\n",
       "      <td>park</td>\n",
       "      <td>point_of_interest</td>\n",
       "      <td>establishment</td>\n",
       "      <td>NaN</td>\n",
       "      <td>NaN</td>\n",
       "      <td>NaN</td>\n",
       "      <td>NaN</td>\n",
       "      <td>North</td>\n",
       "      <td>park, point_of_interest, establishment</td>\n",
       "    </tr>\n",
       "    <tr>\n",
       "      <th>La Placita</th>\n",
       "      <td>716</td>\n",
       "      <td>4.4</td>\n",
       "      <td>241.0</td>\n",
       "      <td>30.194589</td>\n",
       "      <td>-97.745189</td>\n",
       "      <td>restaurant</td>\n",
       "      <td>food</td>\n",
       "      <td>point_of_interest</td>\n",
       "      <td>establishment</td>\n",
       "      <td>NaN</td>\n",
       "      <td>NaN</td>\n",
       "      <td>NaN</td>\n",
       "      <td>Central</td>\n",
       "      <td>restaurant, food, point_of_interest, establish...</td>\n",
       "    </tr>\n",
       "    <tr>\n",
       "      <th>Dittmar District Park</th>\n",
       "      <td>717</td>\n",
       "      <td>4.4</td>\n",
       "      <td>297.0</td>\n",
       "      <td>30.182571</td>\n",
       "      <td>-97.799721</td>\n",
       "      <td>park</td>\n",
       "      <td>tourist_attraction</td>\n",
       "      <td>point_of_interest</td>\n",
       "      <td>establishment</td>\n",
       "      <td>NaN</td>\n",
       "      <td>NaN</td>\n",
       "      <td>NaN</td>\n",
       "      <td>Central</td>\n",
       "      <td>park, tourist_attraction, point_of_interest, e...</td>\n",
       "    </tr>\n",
       "    <tr>\n",
       "      <th>Rosa's Café &amp; Tortilla Factory</th>\n",
       "      <td>719</td>\n",
       "      <td>4.2</td>\n",
       "      <td>1305.0</td>\n",
       "      <td>30.171329</td>\n",
       "      <td>-97.799098</td>\n",
       "      <td>restaurant</td>\n",
       "      <td>meal_takeaway</td>\n",
       "      <td>food</td>\n",
       "      <td>point_of_interest</td>\n",
       "      <td>establishment</td>\n",
       "      <td>NaN</td>\n",
       "      <td>NaN</td>\n",
       "      <td>Central</td>\n",
       "      <td>restaurant, meal_takeaway, food, point_of_inte...</td>\n",
       "    </tr>\n",
       "    <tr>\n",
       "      <th>...</th>\n",
       "      <td>...</td>\n",
       "      <td>...</td>\n",
       "      <td>...</td>\n",
       "      <td>...</td>\n",
       "      <td>...</td>\n",
       "      <td>...</td>\n",
       "      <td>...</td>\n",
       "      <td>...</td>\n",
       "      <td>...</td>\n",
       "      <td>...</td>\n",
       "      <td>...</td>\n",
       "      <td>...</td>\n",
       "      <td>...</td>\n",
       "      <td>...</td>\n",
       "    </tr>\n",
       "    <tr>\n",
       "      <th>Heritage Oaks Neighborhood Park</th>\n",
       "      <td>378</td>\n",
       "      <td>4.7</td>\n",
       "      <td>43.0</td>\n",
       "      <td>30.234326</td>\n",
       "      <td>-97.737227</td>\n",
       "      <td>park</td>\n",
       "      <td>tourist_attraction</td>\n",
       "      <td>point_of_interest</td>\n",
       "      <td>establishment</td>\n",
       "      <td>NaN</td>\n",
       "      <td>NaN</td>\n",
       "      <td>NaN</td>\n",
       "      <td>North</td>\n",
       "      <td>park, tourist_attraction, point_of_interest, e...</td>\n",
       "    </tr>\n",
       "    <tr>\n",
       "      <th>Centre North</th>\n",
       "      <td>287</td>\n",
       "      <td>3.6</td>\n",
       "      <td>16.0</td>\n",
       "      <td>30.351838</td>\n",
       "      <td>-97.709802</td>\n",
       "      <td>shopping_mall</td>\n",
       "      <td>point_of_interest</td>\n",
       "      <td>establishment</td>\n",
       "      <td>NaN</td>\n",
       "      <td>NaN</td>\n",
       "      <td>NaN</td>\n",
       "      <td>NaN</td>\n",
       "      <td>North</td>\n",
       "      <td>shopping_mall, point_of_interest, establishment</td>\n",
       "    </tr>\n",
       "    <tr>\n",
       "      <th>Oak Acres</th>\n",
       "      <td>565</td>\n",
       "      <td>4.8</td>\n",
       "      <td>5.0</td>\n",
       "      <td>30.237034</td>\n",
       "      <td>-97.846914</td>\n",
       "      <td>shopping_mall</td>\n",
       "      <td>point_of_interest</td>\n",
       "      <td>establishment</td>\n",
       "      <td>NaN</td>\n",
       "      <td>NaN</td>\n",
       "      <td>NaN</td>\n",
       "      <td>NaN</td>\n",
       "      <td>North</td>\n",
       "      <td>shopping_mall, point_of_interest, establishment</td>\n",
       "    </tr>\n",
       "    <tr>\n",
       "      <th>Burgerlicious</th>\n",
       "      <td>260</td>\n",
       "      <td>5.0</td>\n",
       "      <td>18.0</td>\n",
       "      <td>30.272704</td>\n",
       "      <td>-97.728530</td>\n",
       "      <td>restaurant</td>\n",
       "      <td>food</td>\n",
       "      <td>point_of_interest</td>\n",
       "      <td>establishment</td>\n",
       "      <td>NaN</td>\n",
       "      <td>NaN</td>\n",
       "      <td>NaN</td>\n",
       "      <td>North</td>\n",
       "      <td>restaurant, food, point_of_interest, establish...</td>\n",
       "    </tr>\n",
       "    <tr>\n",
       "      <th>P Men's Club</th>\n",
       "      <td>580</td>\n",
       "      <td>5.0</td>\n",
       "      <td>5.0</td>\n",
       "      <td>30.219131</td>\n",
       "      <td>-97.758263</td>\n",
       "      <td>bar</td>\n",
       "      <td>point_of_interest</td>\n",
       "      <td>establishment</td>\n",
       "      <td>NaN</td>\n",
       "      <td>NaN</td>\n",
       "      <td>NaN</td>\n",
       "      <td>NaN</td>\n",
       "      <td>North</td>\n",
       "      <td>bar, point_of_interest, establishment</td>\n",
       "    </tr>\n",
       "  </tbody>\n",
       "</table>\n",
       "<p>387 rows × 14 columns</p>\n",
       "</div>"
      ],
      "text/plain": [
       "                                  id  rating  user_ratings_total   latitude  \\\n",
       "name                                                                          \n",
       "Mikado Ryotei                    706     4.5               369.0  30.373440   \n",
       "Earl J. Pomerleau Pocket Park    708     4.3                 6.0  30.318483   \n",
       "La Placita                       716     4.4               241.0  30.194589   \n",
       "Dittmar District Park            717     4.4               297.0  30.182571   \n",
       "Rosa's Café & Tortilla Factory   719     4.2              1305.0  30.171329   \n",
       "...                              ...     ...                 ...        ...   \n",
       "Heritage Oaks Neighborhood Park  378     4.7                43.0  30.234326   \n",
       "Centre North                     287     3.6                16.0  30.351838   \n",
       "Oak Acres                        565     4.8                 5.0  30.237034   \n",
       "Burgerlicious                    260     5.0                18.0  30.272704   \n",
       "P Men's Club                     580     5.0                 5.0  30.219131   \n",
       "\n",
       "                                 longitude         types1  \\\n",
       "name                                                        \n",
       "Mikado Ryotei                   -97.724686            bar   \n",
       "Earl J. Pomerleau Pocket Park   -97.686791           park   \n",
       "La Placita                      -97.745189     restaurant   \n",
       "Dittmar District Park           -97.799721           park   \n",
       "Rosa's Café & Tortilla Factory  -97.799098     restaurant   \n",
       "...                                    ...            ...   \n",
       "Heritage Oaks Neighborhood Park -97.737227           park   \n",
       "Centre North                    -97.709802  shopping_mall   \n",
       "Oak Acres                       -97.846914  shopping_mall   \n",
       "Burgerlicious                   -97.728530     restaurant   \n",
       "P Men's Club                    -97.758263            bar   \n",
       "\n",
       "                                              types2              types3  \\\n",
       "name                                                                       \n",
       "Mikado Ryotei                             restaurant                food   \n",
       "Earl J. Pomerleau Pocket Park      point_of_interest       establishment   \n",
       "La Placita                                      food   point_of_interest   \n",
       "Dittmar District Park             tourist_attraction   point_of_interest   \n",
       "Rosa's Café & Tortilla Factory         meal_takeaway                food   \n",
       "...                                              ...                 ...   \n",
       "Heritage Oaks Neighborhood Park   tourist_attraction   point_of_interest   \n",
       "Centre North                       point_of_interest       establishment   \n",
       "Oak Acres                          point_of_interest       establishment   \n",
       "Burgerlicious                                   food   point_of_interest   \n",
       "P Men's Club                       point_of_interest       establishment   \n",
       "\n",
       "                                             types4          types5 types6  \\\n",
       "name                                                                         \n",
       "Mikado Ryotei                     point_of_interest   establishment    NaN   \n",
       "Earl J. Pomerleau Pocket Park                   NaN             NaN    NaN   \n",
       "La Placita                            establishment             NaN    NaN   \n",
       "Dittmar District Park                 establishment             NaN    NaN   \n",
       "Rosa's Café & Tortilla Factory    point_of_interest   establishment    NaN   \n",
       "...                                             ...             ...    ...   \n",
       "Heritage Oaks Neighborhood Park       establishment             NaN    NaN   \n",
       "Centre North                                    NaN             NaN    NaN   \n",
       "Oak Acres                                       NaN             NaN    NaN   \n",
       "Burgerlicious                         establishment             NaN    NaN   \n",
       "P Men's Club                                    NaN             NaN    NaN   \n",
       "\n",
       "                                types7 latitude_region  \\\n",
       "name                                                     \n",
       "Mikado Ryotei                      NaN           North   \n",
       "Earl J. Pomerleau Pocket Park      NaN           North   \n",
       "La Placita                         NaN         Central   \n",
       "Dittmar District Park              NaN         Central   \n",
       "Rosa's Café & Tortilla Factory     NaN         Central   \n",
       "...                                ...             ...   \n",
       "Heritage Oaks Neighborhood Park    NaN           North   \n",
       "Centre North                       NaN           North   \n",
       "Oak Acres                          NaN           North   \n",
       "Burgerlicious                      NaN           North   \n",
       "P Men's Club                       NaN           North   \n",
       "\n",
       "                                                                             types  \n",
       "name                                                                                \n",
       "Mikado Ryotei                    bar, restaurant, food, point_of_interest, esta...  \n",
       "Earl J. Pomerleau Pocket Park               park, point_of_interest, establishment  \n",
       "La Placita                       restaurant, food, point_of_interest, establish...  \n",
       "Dittmar District Park            park, tourist_attraction, point_of_interest, e...  \n",
       "Rosa's Café & Tortilla Factory   restaurant, meal_takeaway, food, point_of_inte...  \n",
       "...                                                                            ...  \n",
       "Heritage Oaks Neighborhood Park  park, tourist_attraction, point_of_interest, e...  \n",
       "Centre North                       shopping_mall, point_of_interest, establishment  \n",
       "Oak Acres                          shopping_mall, point_of_interest, establishment  \n",
       "Burgerlicious                    restaurant, food, point_of_interest, establish...  \n",
       "P Men's Club                                 bar, point_of_interest, establishment  \n",
       "\n",
       "[387 rows x 14 columns]"
      ]
     },
     "execution_count": 5,
     "metadata": {},
     "output_type": "execute_result"
    }
   ],
   "source": [
    "df"
   ]
  },
  {
   "cell_type": "code",
   "execution_count": 6,
   "metadata": {},
   "outputs": [],
   "source": [
    "target = \"rating\""
   ]
  },
  {
   "cell_type": "code",
   "execution_count": 21,
   "metadata": {},
   "outputs": [],
   "source": [
    "X = df.drop(\n",
    "    columns=[\n",
    "        \"id\",\n",
    "        \"rating\",\n",
    "        \"types1\",\n",
    "        \"types2\",\n",
    "        \"types3\",\n",
    "        \"types4\",\n",
    "        \"types5\",\n",
    "        \"types6\",\n",
    "        \"types7\",\n",
    "        \"latitude_region\",\n",
    "        \"types\",\n",
    "    ],\n",
    "    axis=1,\n",
    ").values\n",
    "y = df[target].values"
   ]
  },
  {
   "cell_type": "code",
   "execution_count": 22,
   "metadata": {},
   "outputs": [],
   "source": [
    "X_train, X_test, y_train, y_test = train_test_split(X, y, random_state=20)"
   ]
  },
  {
   "cell_type": "code",
   "execution_count": 23,
   "metadata": {},
   "outputs": [],
   "source": [
    "linear_regression = LinearRegression()"
   ]
  },
  {
   "cell_type": "code",
   "execution_count": 24,
   "metadata": {},
   "outputs": [
    {
     "data": {
      "text/plain": [
       "LinearRegression()"
      ]
     },
     "execution_count": 24,
     "metadata": {},
     "output_type": "execute_result"
    }
   ],
   "source": [
    "linear_regression.fit(X_train, y_train)"
   ]
  },
  {
   "cell_type": "code",
   "execution_count": 25,
   "metadata": {},
   "outputs": [],
   "source": [
    "y_test_pred = linear_regression.predict(X_test)"
   ]
  },
  {
   "cell_type": "code",
   "execution_count": 26,
   "metadata": {},
   "outputs": [
    {
     "data": {
      "text/plain": [
       "0.39421085512325615"
      ]
     },
     "execution_count": 26,
     "metadata": {},
     "output_type": "execute_result"
    }
   ],
   "source": [
    "mean_squared_error(y_test, y_test_pred)"
   ]
  },
  {
   "cell_type": "code",
   "execution_count": 27,
   "metadata": {},
   "outputs": [
    {
     "data": {
      "text/plain": [
       "0.6803092783505154"
      ]
     },
     "execution_count": 27,
     "metadata": {},
     "output_type": "execute_result"
    }
   ],
   "source": [
    "decsion_tree = DecisionTreeRegressor()\n",
    "decsion_tree.fit(X_train, y_train)\n",
    "y_test_pred = decsion_tree.predict(X_test)\n",
    "mean_squared_error(y_test, y_test_pred)"
   ]
  },
  {
   "cell_type": "code",
   "execution_count": 28,
   "metadata": {},
   "outputs": [
    {
     "data": {
      "text/plain": [
       "0.29805082474226796"
      ]
     },
     "execution_count": 28,
     "metadata": {},
     "output_type": "execute_result"
    }
   ],
   "source": [
    "random_forest = RandomForestRegressor()\n",
    "random_forest.fit(X_train, y_train)\n",
    "y_test_pred = random_forest.predict(X_test)\n",
    "mean_squared_error(y_test, y_test_pred)"
   ]
  },
  {
   "cell_type": "code",
   "execution_count": 29,
   "metadata": {},
   "outputs": [
    {
     "name": "stderr",
     "output_type": "stream",
     "text": [
      "/opt/conda/lib/python3.7/site-packages/sklearn/svm/_base.py:977: ConvergenceWarning: Liblinear failed to converge, increase the number of iterations.\n",
      "  \"the number of iterations.\", ConvergenceWarning)\n"
     ]
    },
    {
     "data": {
      "text/plain": [
       "73.39031830642887"
      ]
     },
     "execution_count": 29,
     "metadata": {},
     "output_type": "execute_result"
    }
   ],
   "source": [
    "svr = LinearSVR()\n",
    "svr.fit(X_train, y_train)\n",
    "y_test_pred = svr.predict(X_test)\n",
    "mean_squared_error(y_test, y_test_pred)"
   ]
  },
  {
   "cell_type": "code",
   "execution_count": 30,
   "metadata": {},
   "outputs": [
    {
     "data": {
      "text/plain": [
       "array([4.307])"
      ]
     },
     "execution_count": 30,
     "metadata": {},
     "output_type": "execute_result"
    }
   ],
   "source": [
    "la_placita = (\n",
    "    df.drop(\n",
    "        columns=[\n",
    "            \"id\",\n",
    "            \"rating\",\n",
    "            \"types1\",\n",
    "            \"types2\",\n",
    "            \"types3\",\n",
    "            \"types4\",\n",
    "            \"types5\",\n",
    "            \"types6\",\n",
    "            \"types7\",\n",
    "            \"latitude_region\",\n",
    "            \"types\",\n",
    "        ],\n",
    "        axis=1,\n",
    "    )\n",
    "    .loc[\"La Placita\"]\n",
    "    .values\n",
    ")\n",
    "random_forest.predict([la_placita])"
   ]
  },
  {
   "cell_type": "code",
   "execution_count": 62,
   "metadata": {},
   "outputs": [],
   "source": [
    "X1 = df.drop(\n",
    "    columns=[\n",
    "        \"id\",\n",
    "        \"rating\",\n",
    "        \"types1\",\n",
    "        \"types2\",\n",
    "        \"types3\",\n",
    "        \"types4\",\n",
    "        \"types5\",\n",
    "        \"types6\",\n",
    "        \"types7\",\n",
    "        \"latitude_region\",\n",
    "    ],\n",
    "    axis=1,\n",
    ").values"
   ]
  },
  {
   "cell_type": "code",
   "execution_count": 53,
   "metadata": {},
   "outputs": [],
   "source": [
    "cf = ColumnTransformer(\n",
    "    [\n",
    "        (\"numerical\", \"passthrough\", [\"user_ratings_total\", \"latitude\", \"longitude\"],),\n",
    "        (\"categorical\", OneHotEncoder(drop=\"first\"), [\"types\"]),\n",
    "    ]\n",
    ")"
   ]
  },
  {
   "cell_type": "code",
   "execution_count": 54,
   "metadata": {},
   "outputs": [],
   "source": [
    "rf_pipeline = make_pipeline(cf, RandomForestRegressor())"
   ]
  },
  {
   "cell_type": "code",
   "execution_count": 56,
   "metadata": {},
   "outputs": [
    {
     "ename": "AttributeError",
     "evalue": "'ColumnTransformer' object has no attribute 'get_features_names'",
     "output_type": "error",
     "traceback": [
      "\u001b[0;31m---------------------------------------------------------------------------\u001b[0m",
      "\u001b[0;31mAttributeError\u001b[0m                            Traceback (most recent call last)",
      "\u001b[0;32m<ipython-input-56-1e90d8ef44ab>\u001b[0m in \u001b[0;36m<module>\u001b[0;34m\u001b[0m\n\u001b[0;32m----> 1\u001b[0;31m \u001b[0mcf\u001b[0m\u001b[0;34m.\u001b[0m\u001b[0mget_features_names\u001b[0m\u001b[0;34m(\u001b[0m\u001b[0;34m)\u001b[0m\u001b[0;34m\u001b[0m\u001b[0;34m\u001b[0m\u001b[0m\n\u001b[0m",
      "\u001b[0;31mAttributeError\u001b[0m: 'ColumnTransformer' object has no attribute 'get_features_names'"
     ]
    }
   ],
   "source": [
    "cf.get_features_names()"
   ]
  },
  {
   "cell_type": "code",
   "execution_count": 63,
   "metadata": {},
   "outputs": [
    {
     "ename": "ValueError",
     "evalue": "Specifying the columns using strings is only supported for pandas DataFrames",
     "output_type": "error",
     "traceback": [
      "\u001b[0;31m---------------------------------------------------------------------------\u001b[0m",
      "\u001b[0;31mAttributeError\u001b[0m                            Traceback (most recent call last)",
      "\u001b[0;32m/opt/conda/lib/python3.7/site-packages/sklearn/utils/__init__.py\u001b[0m in \u001b[0;36m_get_column_indices\u001b[0;34m(X, key)\u001b[0m\n\u001b[1;32m    424\u001b[0m         \u001b[0;32mtry\u001b[0m\u001b[0;34m:\u001b[0m\u001b[0;34m\u001b[0m\u001b[0;34m\u001b[0m\u001b[0m\n\u001b[0;32m--> 425\u001b[0;31m             \u001b[0mall_columns\u001b[0m \u001b[0;34m=\u001b[0m \u001b[0mX\u001b[0m\u001b[0;34m.\u001b[0m\u001b[0mcolumns\u001b[0m\u001b[0;34m\u001b[0m\u001b[0;34m\u001b[0m\u001b[0m\n\u001b[0m\u001b[1;32m    426\u001b[0m         \u001b[0;32mexcept\u001b[0m \u001b[0mAttributeError\u001b[0m\u001b[0;34m:\u001b[0m\u001b[0;34m\u001b[0m\u001b[0;34m\u001b[0m\u001b[0m\n",
      "\u001b[0;31mAttributeError\u001b[0m: 'numpy.ndarray' object has no attribute 'columns'",
      "\nDuring handling of the above exception, another exception occurred:\n",
      "\u001b[0;31mValueError\u001b[0m                                Traceback (most recent call last)",
      "\u001b[0;32m<ipython-input-63-55f5093c8a60>\u001b[0m in \u001b[0;36m<module>\u001b[0;34m\u001b[0m\n\u001b[0;32m----> 1\u001b[0;31m \u001b[0mcf\u001b[0m\u001b[0;34m.\u001b[0m\u001b[0mfit_transform\u001b[0m\u001b[0;34m(\u001b[0m\u001b[0mX1\u001b[0m\u001b[0;34m)\u001b[0m\u001b[0;34m\u001b[0m\u001b[0;34m\u001b[0m\u001b[0m\n\u001b[0m",
      "\u001b[0;32m/opt/conda/lib/python3.7/site-packages/sklearn/compose/_column_transformer.py\u001b[0m in \u001b[0;36mfit_transform\u001b[0;34m(self, X, y)\u001b[0m\n\u001b[1;32m    527\u001b[0m         \u001b[0mself\u001b[0m\u001b[0;34m.\u001b[0m\u001b[0m_validate_transformers\u001b[0m\u001b[0;34m(\u001b[0m\u001b[0;34m)\u001b[0m\u001b[0;34m\u001b[0m\u001b[0;34m\u001b[0m\u001b[0m\n\u001b[1;32m    528\u001b[0m         \u001b[0mself\u001b[0m\u001b[0;34m.\u001b[0m\u001b[0m_validate_column_callables\u001b[0m\u001b[0;34m(\u001b[0m\u001b[0mX\u001b[0m\u001b[0;34m)\u001b[0m\u001b[0;34m\u001b[0m\u001b[0;34m\u001b[0m\u001b[0m\n\u001b[0;32m--> 529\u001b[0;31m         \u001b[0mself\u001b[0m\u001b[0;34m.\u001b[0m\u001b[0m_validate_remainder\u001b[0m\u001b[0;34m(\u001b[0m\u001b[0mX\u001b[0m\u001b[0;34m)\u001b[0m\u001b[0;34m\u001b[0m\u001b[0;34m\u001b[0m\u001b[0m\n\u001b[0m\u001b[1;32m    530\u001b[0m \u001b[0;34m\u001b[0m\u001b[0m\n\u001b[1;32m    531\u001b[0m         \u001b[0mresult\u001b[0m \u001b[0;34m=\u001b[0m \u001b[0mself\u001b[0m\u001b[0;34m.\u001b[0m\u001b[0m_fit_transform\u001b[0m\u001b[0;34m(\u001b[0m\u001b[0mX\u001b[0m\u001b[0;34m,\u001b[0m \u001b[0my\u001b[0m\u001b[0;34m,\u001b[0m \u001b[0m_fit_transform_one\u001b[0m\u001b[0;34m)\u001b[0m\u001b[0;34m\u001b[0m\u001b[0;34m\u001b[0m\u001b[0m\n",
      "\u001b[0;32m/opt/conda/lib/python3.7/site-packages/sklearn/compose/_column_transformer.py\u001b[0m in \u001b[0;36m_validate_remainder\u001b[0;34m(self, X)\u001b[0m\n\u001b[1;32m    325\u001b[0m         \u001b[0mcols\u001b[0m \u001b[0;34m=\u001b[0m \u001b[0;34m[\u001b[0m\u001b[0;34m]\u001b[0m\u001b[0;34m\u001b[0m\u001b[0;34m\u001b[0m\u001b[0m\n\u001b[1;32m    326\u001b[0m         \u001b[0;32mfor\u001b[0m \u001b[0mcolumns\u001b[0m \u001b[0;32min\u001b[0m \u001b[0mself\u001b[0m\u001b[0;34m.\u001b[0m\u001b[0m_columns\u001b[0m\u001b[0;34m:\u001b[0m\u001b[0;34m\u001b[0m\u001b[0;34m\u001b[0m\u001b[0m\n\u001b[0;32m--> 327\u001b[0;31m             \u001b[0mcols\u001b[0m\u001b[0;34m.\u001b[0m\u001b[0mextend\u001b[0m\u001b[0;34m(\u001b[0m\u001b[0m_get_column_indices\u001b[0m\u001b[0;34m(\u001b[0m\u001b[0mX\u001b[0m\u001b[0;34m,\u001b[0m \u001b[0mcolumns\u001b[0m\u001b[0;34m)\u001b[0m\u001b[0;34m)\u001b[0m\u001b[0;34m\u001b[0m\u001b[0;34m\u001b[0m\u001b[0m\n\u001b[0m\u001b[1;32m    328\u001b[0m \u001b[0;34m\u001b[0m\u001b[0m\n\u001b[1;32m    329\u001b[0m         \u001b[0mremaining_idx\u001b[0m \u001b[0;34m=\u001b[0m \u001b[0msorted\u001b[0m\u001b[0;34m(\u001b[0m\u001b[0mset\u001b[0m\u001b[0;34m(\u001b[0m\u001b[0mrange\u001b[0m\u001b[0;34m(\u001b[0m\u001b[0mself\u001b[0m\u001b[0;34m.\u001b[0m\u001b[0m_n_features\u001b[0m\u001b[0;34m)\u001b[0m\u001b[0;34m)\u001b[0m \u001b[0;34m-\u001b[0m \u001b[0mset\u001b[0m\u001b[0;34m(\u001b[0m\u001b[0mcols\u001b[0m\u001b[0;34m)\u001b[0m\u001b[0;34m)\u001b[0m\u001b[0;34m\u001b[0m\u001b[0;34m\u001b[0m\u001b[0m\n",
      "\u001b[0;32m/opt/conda/lib/python3.7/site-packages/sklearn/utils/__init__.py\u001b[0m in \u001b[0;36m_get_column_indices\u001b[0;34m(X, key)\u001b[0m\n\u001b[1;32m    425\u001b[0m             \u001b[0mall_columns\u001b[0m \u001b[0;34m=\u001b[0m \u001b[0mX\u001b[0m\u001b[0;34m.\u001b[0m\u001b[0mcolumns\u001b[0m\u001b[0;34m\u001b[0m\u001b[0;34m\u001b[0m\u001b[0m\n\u001b[1;32m    426\u001b[0m         \u001b[0;32mexcept\u001b[0m \u001b[0mAttributeError\u001b[0m\u001b[0;34m:\u001b[0m\u001b[0;34m\u001b[0m\u001b[0;34m\u001b[0m\u001b[0m\n\u001b[0;32m--> 427\u001b[0;31m             raise ValueError(\"Specifying the columns using strings is only \"\n\u001b[0m\u001b[1;32m    428\u001b[0m                              \"supported for pandas DataFrames\")\n\u001b[1;32m    429\u001b[0m         \u001b[0;32mif\u001b[0m \u001b[0misinstance\u001b[0m\u001b[0;34m(\u001b[0m\u001b[0mkey\u001b[0m\u001b[0;34m,\u001b[0m \u001b[0mstr\u001b[0m\u001b[0;34m)\u001b[0m\u001b[0;34m:\u001b[0m\u001b[0;34m\u001b[0m\u001b[0;34m\u001b[0m\u001b[0m\n",
      "\u001b[0;31mValueError\u001b[0m: Specifying the columns using strings is only supported for pandas DataFrames"
     ]
    }
   ],
   "source": [
    "cf.fit_transform(X1)"
   ]
  },
  {
   "cell_type": "code",
   "execution_count": null,
   "metadata": {},
   "outputs": [],
   "source": []
  }
 ],
 "metadata": {
  "environment": {
   "name": "common-cpu.m54",
   "type": "gcloud",
   "uri": "gcr.io/deeplearning-platform-release/base-cpu:m54"
  },
  "kernelspec": {
   "display_name": "Python 3",
   "language": "python",
   "name": "python3"
  },
  "language_info": {
   "codemirror_mode": {
    "name": "ipython",
    "version": 3
   },
   "file_extension": ".py",
   "mimetype": "text/x-python",
   "name": "python",
   "nbconvert_exporter": "python",
   "pygments_lexer": "ipython3",
   "version": "3.7.8"
  }
 },
 "nbformat": 4,
 "nbformat_minor": 4
}
