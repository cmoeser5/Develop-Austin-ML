{
 "cells": [
  {
   "cell_type": "code",
   "execution_count": 1,
   "metadata": {},
   "outputs": [],
   "source": [
    "\n",
    "import pandas as pd\n",
    "from sklearn.model_selection import train_test_split\n",
    "from sklearn.linear_model import LinearRegression\n",
    "from sklearn.tree import DecisionTreeRegressor\n",
    "from sklearn.ensemble import RandomForestRegressor\n",
    "from sklearn.pipeline import make_pipeline\n",
    "from sklearn.preprocessing import OneHotEncoder\n",
    "from sklearn.compose import ColumnTransformer\n",
    "from sklearn.metrics import mean_squared_error\n",
    "from sklearn.svm import LinearSVR\n",
    "from sklearn.model_selection import cross_validate\n",
    "from sklearn.model_selection import KFold\n"
   ]
  },
  {
   "cell_type": "code",
   "execution_count": 2,
   "metadata": {},
   "outputs": [],
   "source": [
    "df = pd.read_csv(\"../data/location3.csv\").set_index(\"name\")"
   ]
  },
  {
   "cell_type": "code",
   "execution_count": 3,
   "metadata": {},
   "outputs": [
    {
     "output_type": "execute_result",
     "data": {
      "text/plain": [
       "                                  id  rating  user_ratings_total   latitude  \\\n",
       "name                                                                          \n",
       "Mikado Ryotei                    706     4.5               369.0  30.373440   \n",
       "Earl J. Pomerleau Pocket Park    708     4.3                 6.0  30.318483   \n",
       "La Placita                       716     4.4               241.0  30.194589   \n",
       "Dittmar District Park            717     4.4               297.0  30.182571   \n",
       "Rosa's Café & Tortilla Factory   719     4.2              1305.0  30.171329   \n",
       "...                              ...     ...                 ...        ...   \n",
       "Heritage Oaks Neighborhood Park  378     4.7                43.0  30.234326   \n",
       "Centre North                     287     3.6                16.0  30.351838   \n",
       "Oak Acres                        565     4.8                 5.0  30.237034   \n",
       "Burgerlicious                    260     5.0                18.0  30.272704   \n",
       "P Men's Club                     580     5.0                 5.0  30.219131   \n",
       "\n",
       "                                 longitude         types1  \\\n",
       "name                                                        \n",
       "Mikado Ryotei                   -97.724686            bar   \n",
       "Earl J. Pomerleau Pocket Park   -97.686791           park   \n",
       "La Placita                      -97.745189     restaurant   \n",
       "Dittmar District Park           -97.799721           park   \n",
       "Rosa's Café & Tortilla Factory  -97.799098     restaurant   \n",
       "...                                    ...            ...   \n",
       "Heritage Oaks Neighborhood Park -97.737227           park   \n",
       "Centre North                    -97.709802  shopping_mall   \n",
       "Oak Acres                       -97.846914  shopping_mall   \n",
       "Burgerlicious                   -97.728530     restaurant   \n",
       "P Men's Club                    -97.758263            bar   \n",
       "\n",
       "                                              types2              types3  \\\n",
       "name                                                                       \n",
       "Mikado Ryotei                             restaurant                food   \n",
       "Earl J. Pomerleau Pocket Park      point_of_interest       establishment   \n",
       "La Placita                                      food   point_of_interest   \n",
       "Dittmar District Park             tourist_attraction   point_of_interest   \n",
       "Rosa's Café & Tortilla Factory         meal_takeaway                food   \n",
       "...                                              ...                 ...   \n",
       "Heritage Oaks Neighborhood Park   tourist_attraction   point_of_interest   \n",
       "Centre North                       point_of_interest       establishment   \n",
       "Oak Acres                          point_of_interest       establishment   \n",
       "Burgerlicious                                   food   point_of_interest   \n",
       "P Men's Club                       point_of_interest       establishment   \n",
       "\n",
       "                                             types4          types5 types6  \\\n",
       "name                                                                         \n",
       "Mikado Ryotei                     point_of_interest   establishment    NaN   \n",
       "Earl J. Pomerleau Pocket Park                   NaN             NaN    NaN   \n",
       "La Placita                            establishment             NaN    NaN   \n",
       "Dittmar District Park                 establishment             NaN    NaN   \n",
       "Rosa's Café & Tortilla Factory    point_of_interest   establishment    NaN   \n",
       "...                                             ...             ...    ...   \n",
       "Heritage Oaks Neighborhood Park       establishment             NaN    NaN   \n",
       "Centre North                                    NaN             NaN    NaN   \n",
       "Oak Acres                                       NaN             NaN    NaN   \n",
       "Burgerlicious                         establishment             NaN    NaN   \n",
       "P Men's Club                                    NaN             NaN    NaN   \n",
       "\n",
       "                                types7 latitude_region  \\\n",
       "name                                                     \n",
       "Mikado Ryotei                      NaN           North   \n",
       "Earl J. Pomerleau Pocket Park      NaN           North   \n",
       "La Placita                         NaN         Central   \n",
       "Dittmar District Park              NaN         Central   \n",
       "Rosa's Café & Tortilla Factory     NaN         Central   \n",
       "...                                ...             ...   \n",
       "Heritage Oaks Neighborhood Park    NaN           North   \n",
       "Centre North                       NaN           North   \n",
       "Oak Acres                          NaN           North   \n",
       "Burgerlicious                      NaN           North   \n",
       "P Men's Club                       NaN           North   \n",
       "\n",
       "                                                                             types  \n",
       "name                                                                                \n",
       "Mikado Ryotei                    bar, restaurant, food, point_of_interest, esta...  \n",
       "Earl J. Pomerleau Pocket Park               park, point_of_interest, establishment  \n",
       "La Placita                       restaurant, food, point_of_interest, establish...  \n",
       "Dittmar District Park            park, tourist_attraction, point_of_interest, e...  \n",
       "Rosa's Café & Tortilla Factory   restaurant, meal_takeaway, food, point_of_inte...  \n",
       "...                                                                            ...  \n",
       "Heritage Oaks Neighborhood Park  park, tourist_attraction, point_of_interest, e...  \n",
       "Centre North                       shopping_mall, point_of_interest, establishment  \n",
       "Oak Acres                          shopping_mall, point_of_interest, establishment  \n",
       "Burgerlicious                    restaurant, food, point_of_interest, establish...  \n",
       "P Men's Club                                 bar, point_of_interest, establishment  \n",
       "\n",
       "[387 rows x 14 columns]"
      ],
      "text/html": "<div>\n<style scoped>\n    .dataframe tbody tr th:only-of-type {\n        vertical-align: middle;\n    }\n\n    .dataframe tbody tr th {\n        vertical-align: top;\n    }\n\n    .dataframe thead th {\n        text-align: right;\n    }\n</style>\n<table border=\"1\" class=\"dataframe\">\n  <thead>\n    <tr style=\"text-align: right;\">\n      <th></th>\n      <th>id</th>\n      <th>rating</th>\n      <th>user_ratings_total</th>\n      <th>latitude</th>\n      <th>longitude</th>\n      <th>types1</th>\n      <th>types2</th>\n      <th>types3</th>\n      <th>types4</th>\n      <th>types5</th>\n      <th>types6</th>\n      <th>types7</th>\n      <th>latitude_region</th>\n      <th>types</th>\n    </tr>\n    <tr>\n      <th>name</th>\n      <th></th>\n      <th></th>\n      <th></th>\n      <th></th>\n      <th></th>\n      <th></th>\n      <th></th>\n      <th></th>\n      <th></th>\n      <th></th>\n      <th></th>\n      <th></th>\n      <th></th>\n      <th></th>\n    </tr>\n  </thead>\n  <tbody>\n    <tr>\n      <th>Mikado Ryotei</th>\n      <td>706</td>\n      <td>4.5</td>\n      <td>369.0</td>\n      <td>30.373440</td>\n      <td>-97.724686</td>\n      <td>bar</td>\n      <td>restaurant</td>\n      <td>food</td>\n      <td>point_of_interest</td>\n      <td>establishment</td>\n      <td>NaN</td>\n      <td>NaN</td>\n      <td>North</td>\n      <td>bar, restaurant, food, point_of_interest, esta...</td>\n    </tr>\n    <tr>\n      <th>Earl J. Pomerleau Pocket Park</th>\n      <td>708</td>\n      <td>4.3</td>\n      <td>6.0</td>\n      <td>30.318483</td>\n      <td>-97.686791</td>\n      <td>park</td>\n      <td>point_of_interest</td>\n      <td>establishment</td>\n      <td>NaN</td>\n      <td>NaN</td>\n      <td>NaN</td>\n      <td>NaN</td>\n      <td>North</td>\n      <td>park, point_of_interest, establishment</td>\n    </tr>\n    <tr>\n      <th>La Placita</th>\n      <td>716</td>\n      <td>4.4</td>\n      <td>241.0</td>\n      <td>30.194589</td>\n      <td>-97.745189</td>\n      <td>restaurant</td>\n      <td>food</td>\n      <td>point_of_interest</td>\n      <td>establishment</td>\n      <td>NaN</td>\n      <td>NaN</td>\n      <td>NaN</td>\n      <td>Central</td>\n      <td>restaurant, food, point_of_interest, establish...</td>\n    </tr>\n    <tr>\n      <th>Dittmar District Park</th>\n      <td>717</td>\n      <td>4.4</td>\n      <td>297.0</td>\n      <td>30.182571</td>\n      <td>-97.799721</td>\n      <td>park</td>\n      <td>tourist_attraction</td>\n      <td>point_of_interest</td>\n      <td>establishment</td>\n      <td>NaN</td>\n      <td>NaN</td>\n      <td>NaN</td>\n      <td>Central</td>\n      <td>park, tourist_attraction, point_of_interest, e...</td>\n    </tr>\n    <tr>\n      <th>Rosa's Café &amp; Tortilla Factory</th>\n      <td>719</td>\n      <td>4.2</td>\n      <td>1305.0</td>\n      <td>30.171329</td>\n      <td>-97.799098</td>\n      <td>restaurant</td>\n      <td>meal_takeaway</td>\n      <td>food</td>\n      <td>point_of_interest</td>\n      <td>establishment</td>\n      <td>NaN</td>\n      <td>NaN</td>\n      <td>Central</td>\n      <td>restaurant, meal_takeaway, food, point_of_inte...</td>\n    </tr>\n    <tr>\n      <th>...</th>\n      <td>...</td>\n      <td>...</td>\n      <td>...</td>\n      <td>...</td>\n      <td>...</td>\n      <td>...</td>\n      <td>...</td>\n      <td>...</td>\n      <td>...</td>\n      <td>...</td>\n      <td>...</td>\n      <td>...</td>\n      <td>...</td>\n      <td>...</td>\n    </tr>\n    <tr>\n      <th>Heritage Oaks Neighborhood Park</th>\n      <td>378</td>\n      <td>4.7</td>\n      <td>43.0</td>\n      <td>30.234326</td>\n      <td>-97.737227</td>\n      <td>park</td>\n      <td>tourist_attraction</td>\n      <td>point_of_interest</td>\n      <td>establishment</td>\n      <td>NaN</td>\n      <td>NaN</td>\n      <td>NaN</td>\n      <td>North</td>\n      <td>park, tourist_attraction, point_of_interest, e...</td>\n    </tr>\n    <tr>\n      <th>Centre North</th>\n      <td>287</td>\n      <td>3.6</td>\n      <td>16.0</td>\n      <td>30.351838</td>\n      <td>-97.709802</td>\n      <td>shopping_mall</td>\n      <td>point_of_interest</td>\n      <td>establishment</td>\n      <td>NaN</td>\n      <td>NaN</td>\n      <td>NaN</td>\n      <td>NaN</td>\n      <td>North</td>\n      <td>shopping_mall, point_of_interest, establishment</td>\n    </tr>\n    <tr>\n      <th>Oak Acres</th>\n      <td>565</td>\n      <td>4.8</td>\n      <td>5.0</td>\n      <td>30.237034</td>\n      <td>-97.846914</td>\n      <td>shopping_mall</td>\n      <td>point_of_interest</td>\n      <td>establishment</td>\n      <td>NaN</td>\n      <td>NaN</td>\n      <td>NaN</td>\n      <td>NaN</td>\n      <td>North</td>\n      <td>shopping_mall, point_of_interest, establishment</td>\n    </tr>\n    <tr>\n      <th>Burgerlicious</th>\n      <td>260</td>\n      <td>5.0</td>\n      <td>18.0</td>\n      <td>30.272704</td>\n      <td>-97.728530</td>\n      <td>restaurant</td>\n      <td>food</td>\n      <td>point_of_interest</td>\n      <td>establishment</td>\n      <td>NaN</td>\n      <td>NaN</td>\n      <td>NaN</td>\n      <td>North</td>\n      <td>restaurant, food, point_of_interest, establish...</td>\n    </tr>\n    <tr>\n      <th>P Men's Club</th>\n      <td>580</td>\n      <td>5.0</td>\n      <td>5.0</td>\n      <td>30.219131</td>\n      <td>-97.758263</td>\n      <td>bar</td>\n      <td>point_of_interest</td>\n      <td>establishment</td>\n      <td>NaN</td>\n      <td>NaN</td>\n      <td>NaN</td>\n      <td>NaN</td>\n      <td>North</td>\n      <td>bar, point_of_interest, establishment</td>\n    </tr>\n  </tbody>\n</table>\n<p>387 rows × 14 columns</p>\n</div>"
     },
     "metadata": {},
     "execution_count": 3
    }
   ],
   "source": [
    "df"
   ]
  },
  {
   "cell_type": "code",
   "execution_count": 4,
   "metadata": {},
   "outputs": [],
   "source": [
    "types_list=df.types.unique()"
   ]
  },
  {
   "cell_type": "code",
   "execution_count": 5,
   "metadata": {},
   "outputs": [],
   "source": [
    "index=1\n",
    "types_dict={}\n",
    "for i in types_list:\n",
    "    types_dict[index]=i\n",
    "    index+=1"
   ]
  },
  {
   "cell_type": "code",
   "execution_count": null,
   "metadata": {},
   "outputs": [],
   "source": []
  },
  {
   "cell_type": "code",
   "execution_count": 6,
   "metadata": {},
   "outputs": [
    {
     "output_type": "execute_result",
     "data": {
      "text/plain": [
       "{1: 'bar, restaurant, food, point_of_interest, establishment',\n",
       " 2: 'park, point_of_interest, establishment',\n",
       " 3: 'restaurant, food, point_of_interest, establishment',\n",
       " 4: 'park, tourist_attraction, point_of_interest, establishment',\n",
       " 5: 'restaurant, meal_takeaway, food, point_of_interest, establishment',\n",
       " 6: 'point_of_interest, establishment',\n",
       " 7: 'cemetery, tourist_attraction, park, point_of_interest, establishment',\n",
       " 8: 'shopping_mall, point_of_interest, establishment',\n",
       " 9: 'car_repair, point_of_interest, store, establishment',\n",
       " 10: 'restaurant, food, point_of_interest, store, establishment',\n",
       " 11: 'tourist_attraction, point_of_interest, establishment',\n",
       " 12: 'restaurant, bar, food, point_of_interest, establishment',\n",
       " 13: 'tourist_attraction, park, point_of_interest, establishment',\n",
       " 14: 'bar, point_of_interest, establishment',\n",
       " 15: 'bar, restaurant, food, point_of_interest, store, establishment',\n",
       " 16: 'tourist_attraction, museum, point_of_interest, establishment',\n",
       " 17: 'museum, tourist_attraction, point_of_interest, establishment',\n",
       " 18: 'art_gallery, tourist_attraction, museum, point_of_interest, establishment',\n",
       " 19: 'point_of_interest, clothing_store, store, establishment',\n",
       " 20: 'museum, point_of_interest, establishment',\n",
       " 21: 'night_club, meal_takeaway, bar, restaurant, food, point_of_interest, establishment',\n",
       " 22: 'aquarium, tourist_attraction, museum, point_of_interest, establishment',\n",
       " 23: 'bakery, restaurant, food, point_of_interest, store, establishment',\n",
       " 24: 'home_goods_store, point_of_interest, clothing_store, store, establishment',\n",
       " 25: 'tourist_attraction, travel_agency, point_of_interest, establishment',\n",
       " 26: 'meal_takeaway, restaurant, food, point_of_interest, establishment',\n",
       " 27: 'church, place_of_worship, point_of_interest, establishment',\n",
       " 28: 'hair_care, jewelry_store, point_of_interest, store, establishment',\n",
       " 29: 'meal_takeaway, cafe, restaurant, food, point_of_interest, store, establishment',\n",
       " 30: 'cafe, restaurant, food, point_of_interest, establishment',\n",
       " 31: 'tourist_attraction, natural_feature, point_of_interest, establishment',\n",
       " 32: 'shopping_mall, car_wash, point_of_interest, establishment',\n",
       " 33: 'real_estate_agency, point_of_interest, establishment',\n",
       " 34: 'meal_delivery, meal_takeaway, restaurant, food, point_of_interest, establishment',\n",
       " 35: 'restaurant, cafe, food, point_of_interest, store, establishment',\n",
       " 36: 'shopping_mall, grocery_or_supermarket, restaurant, food, point_of_interest, store, establishment',\n",
       " 37: 'supermarket, gas_station, grocery_or_supermarket, liquor_store, restaurant, food, point_of_interest',\n",
       " 38: 'movie_theater, point_of_interest, establishment',\n",
       " 39: 'tourist_attraction, church, place_of_worship, point_of_interest, establishment',\n",
       " 40: 'finance, point_of_interest, store, establishment',\n",
       " 41: 'bakery, bar, restaurant, food, point_of_interest, store, establishment',\n",
       " 42: 'cafe, bar, restaurant, food, point_of_interest, store, establishment',\n",
       " 43: 'tourist_attraction, local_government_office, point_of_interest, establishment',\n",
       " 44: 'meal_takeaway, bar, restaurant, food, point_of_interest, establishment'}"
      ]
     },
     "metadata": {},
     "execution_count": 6
    }
   ],
   "source": [
    "types_dict"
   ]
  },
  {
   "cell_type": "code",
   "execution_count": 7,
   "metadata": {},
   "outputs": [],
   "source": [
    "df=df.assign(\n",
    "        types=lambda df: df[\"types\"].replace(\n",
    "            types_dict)\n",
    "        )"
   ]
  },
  {
   "cell_type": "code",
   "execution_count": 8,
   "metadata": {},
   "outputs": [
    {
     "output_type": "execute_result",
     "data": {
      "text/plain": [
       "                                  id  rating  user_ratings_total   latitude  \\\n",
       "name                                                                          \n",
       "Mikado Ryotei                    706     4.5               369.0  30.373440   \n",
       "Earl J. Pomerleau Pocket Park    708     4.3                 6.0  30.318483   \n",
       "La Placita                       716     4.4               241.0  30.194589   \n",
       "Dittmar District Park            717     4.4               297.0  30.182571   \n",
       "Rosa's Café & Tortilla Factory   719     4.2              1305.0  30.171329   \n",
       "...                              ...     ...                 ...        ...   \n",
       "Heritage Oaks Neighborhood Park  378     4.7                43.0  30.234326   \n",
       "Centre North                     287     3.6                16.0  30.351838   \n",
       "Oak Acres                        565     4.8                 5.0  30.237034   \n",
       "Burgerlicious                    260     5.0                18.0  30.272704   \n",
       "P Men's Club                     580     5.0                 5.0  30.219131   \n",
       "\n",
       "                                 longitude         types1  \\\n",
       "name                                                        \n",
       "Mikado Ryotei                   -97.724686            bar   \n",
       "Earl J. Pomerleau Pocket Park   -97.686791           park   \n",
       "La Placita                      -97.745189     restaurant   \n",
       "Dittmar District Park           -97.799721           park   \n",
       "Rosa's Café & Tortilla Factory  -97.799098     restaurant   \n",
       "...                                    ...            ...   \n",
       "Heritage Oaks Neighborhood Park -97.737227           park   \n",
       "Centre North                    -97.709802  shopping_mall   \n",
       "Oak Acres                       -97.846914  shopping_mall   \n",
       "Burgerlicious                   -97.728530     restaurant   \n",
       "P Men's Club                    -97.758263            bar   \n",
       "\n",
       "                                              types2              types3  \\\n",
       "name                                                                       \n",
       "Mikado Ryotei                             restaurant                food   \n",
       "Earl J. Pomerleau Pocket Park      point_of_interest       establishment   \n",
       "La Placita                                      food   point_of_interest   \n",
       "Dittmar District Park             tourist_attraction   point_of_interest   \n",
       "Rosa's Café & Tortilla Factory         meal_takeaway                food   \n",
       "...                                              ...                 ...   \n",
       "Heritage Oaks Neighborhood Park   tourist_attraction   point_of_interest   \n",
       "Centre North                       point_of_interest       establishment   \n",
       "Oak Acres                          point_of_interest       establishment   \n",
       "Burgerlicious                                   food   point_of_interest   \n",
       "P Men's Club                       point_of_interest       establishment   \n",
       "\n",
       "                                             types4          types5 types6  \\\n",
       "name                                                                         \n",
       "Mikado Ryotei                     point_of_interest   establishment    NaN   \n",
       "Earl J. Pomerleau Pocket Park                   NaN             NaN    NaN   \n",
       "La Placita                            establishment             NaN    NaN   \n",
       "Dittmar District Park                 establishment             NaN    NaN   \n",
       "Rosa's Café & Tortilla Factory    point_of_interest   establishment    NaN   \n",
       "...                                             ...             ...    ...   \n",
       "Heritage Oaks Neighborhood Park       establishment             NaN    NaN   \n",
       "Centre North                                    NaN             NaN    NaN   \n",
       "Oak Acres                                       NaN             NaN    NaN   \n",
       "Burgerlicious                         establishment             NaN    NaN   \n",
       "P Men's Club                                    NaN             NaN    NaN   \n",
       "\n",
       "                                types7 latitude_region  \\\n",
       "name                                                     \n",
       "Mikado Ryotei                      NaN           North   \n",
       "Earl J. Pomerleau Pocket Park      NaN           North   \n",
       "La Placita                         NaN         Central   \n",
       "Dittmar District Park              NaN         Central   \n",
       "Rosa's Café & Tortilla Factory     NaN         Central   \n",
       "...                                ...             ...   \n",
       "Heritage Oaks Neighborhood Park    NaN           North   \n",
       "Centre North                       NaN           North   \n",
       "Oak Acres                          NaN           North   \n",
       "Burgerlicious                      NaN           North   \n",
       "P Men's Club                       NaN           North   \n",
       "\n",
       "                                                                             types  \n",
       "name                                                                                \n",
       "Mikado Ryotei                    bar, restaurant, food, point_of_interest, esta...  \n",
       "Earl J. Pomerleau Pocket Park               park, point_of_interest, establishment  \n",
       "La Placita                       restaurant, food, point_of_interest, establish...  \n",
       "Dittmar District Park            park, tourist_attraction, point_of_interest, e...  \n",
       "Rosa's Café & Tortilla Factory   restaurant, meal_takeaway, food, point_of_inte...  \n",
       "...                                                                            ...  \n",
       "Heritage Oaks Neighborhood Park  park, tourist_attraction, point_of_interest, e...  \n",
       "Centre North                       shopping_mall, point_of_interest, establishment  \n",
       "Oak Acres                          shopping_mall, point_of_interest, establishment  \n",
       "Burgerlicious                    restaurant, food, point_of_interest, establish...  \n",
       "P Men's Club                                 bar, point_of_interest, establishment  \n",
       "\n",
       "[387 rows x 14 columns]"
      ],
      "text/html": "<div>\n<style scoped>\n    .dataframe tbody tr th:only-of-type {\n        vertical-align: middle;\n    }\n\n    .dataframe tbody tr th {\n        vertical-align: top;\n    }\n\n    .dataframe thead th {\n        text-align: right;\n    }\n</style>\n<table border=\"1\" class=\"dataframe\">\n  <thead>\n    <tr style=\"text-align: right;\">\n      <th></th>\n      <th>id</th>\n      <th>rating</th>\n      <th>user_ratings_total</th>\n      <th>latitude</th>\n      <th>longitude</th>\n      <th>types1</th>\n      <th>types2</th>\n      <th>types3</th>\n      <th>types4</th>\n      <th>types5</th>\n      <th>types6</th>\n      <th>types7</th>\n      <th>latitude_region</th>\n      <th>types</th>\n    </tr>\n    <tr>\n      <th>name</th>\n      <th></th>\n      <th></th>\n      <th></th>\n      <th></th>\n      <th></th>\n      <th></th>\n      <th></th>\n      <th></th>\n      <th></th>\n      <th></th>\n      <th></th>\n      <th></th>\n      <th></th>\n      <th></th>\n    </tr>\n  </thead>\n  <tbody>\n    <tr>\n      <th>Mikado Ryotei</th>\n      <td>706</td>\n      <td>4.5</td>\n      <td>369.0</td>\n      <td>30.373440</td>\n      <td>-97.724686</td>\n      <td>bar</td>\n      <td>restaurant</td>\n      <td>food</td>\n      <td>point_of_interest</td>\n      <td>establishment</td>\n      <td>NaN</td>\n      <td>NaN</td>\n      <td>North</td>\n      <td>bar, restaurant, food, point_of_interest, esta...</td>\n    </tr>\n    <tr>\n      <th>Earl J. Pomerleau Pocket Park</th>\n      <td>708</td>\n      <td>4.3</td>\n      <td>6.0</td>\n      <td>30.318483</td>\n      <td>-97.686791</td>\n      <td>park</td>\n      <td>point_of_interest</td>\n      <td>establishment</td>\n      <td>NaN</td>\n      <td>NaN</td>\n      <td>NaN</td>\n      <td>NaN</td>\n      <td>North</td>\n      <td>park, point_of_interest, establishment</td>\n    </tr>\n    <tr>\n      <th>La Placita</th>\n      <td>716</td>\n      <td>4.4</td>\n      <td>241.0</td>\n      <td>30.194589</td>\n      <td>-97.745189</td>\n      <td>restaurant</td>\n      <td>food</td>\n      <td>point_of_interest</td>\n      <td>establishment</td>\n      <td>NaN</td>\n      <td>NaN</td>\n      <td>NaN</td>\n      <td>Central</td>\n      <td>restaurant, food, point_of_interest, establish...</td>\n    </tr>\n    <tr>\n      <th>Dittmar District Park</th>\n      <td>717</td>\n      <td>4.4</td>\n      <td>297.0</td>\n      <td>30.182571</td>\n      <td>-97.799721</td>\n      <td>park</td>\n      <td>tourist_attraction</td>\n      <td>point_of_interest</td>\n      <td>establishment</td>\n      <td>NaN</td>\n      <td>NaN</td>\n      <td>NaN</td>\n      <td>Central</td>\n      <td>park, tourist_attraction, point_of_interest, e...</td>\n    </tr>\n    <tr>\n      <th>Rosa's Café &amp; Tortilla Factory</th>\n      <td>719</td>\n      <td>4.2</td>\n      <td>1305.0</td>\n      <td>30.171329</td>\n      <td>-97.799098</td>\n      <td>restaurant</td>\n      <td>meal_takeaway</td>\n      <td>food</td>\n      <td>point_of_interest</td>\n      <td>establishment</td>\n      <td>NaN</td>\n      <td>NaN</td>\n      <td>Central</td>\n      <td>restaurant, meal_takeaway, food, point_of_inte...</td>\n    </tr>\n    <tr>\n      <th>...</th>\n      <td>...</td>\n      <td>...</td>\n      <td>...</td>\n      <td>...</td>\n      <td>...</td>\n      <td>...</td>\n      <td>...</td>\n      <td>...</td>\n      <td>...</td>\n      <td>...</td>\n      <td>...</td>\n      <td>...</td>\n      <td>...</td>\n      <td>...</td>\n    </tr>\n    <tr>\n      <th>Heritage Oaks Neighborhood Park</th>\n      <td>378</td>\n      <td>4.7</td>\n      <td>43.0</td>\n      <td>30.234326</td>\n      <td>-97.737227</td>\n      <td>park</td>\n      <td>tourist_attraction</td>\n      <td>point_of_interest</td>\n      <td>establishment</td>\n      <td>NaN</td>\n      <td>NaN</td>\n      <td>NaN</td>\n      <td>North</td>\n      <td>park, tourist_attraction, point_of_interest, e...</td>\n    </tr>\n    <tr>\n      <th>Centre North</th>\n      <td>287</td>\n      <td>3.6</td>\n      <td>16.0</td>\n      <td>30.351838</td>\n      <td>-97.709802</td>\n      <td>shopping_mall</td>\n      <td>point_of_interest</td>\n      <td>establishment</td>\n      <td>NaN</td>\n      <td>NaN</td>\n      <td>NaN</td>\n      <td>NaN</td>\n      <td>North</td>\n      <td>shopping_mall, point_of_interest, establishment</td>\n    </tr>\n    <tr>\n      <th>Oak Acres</th>\n      <td>565</td>\n      <td>4.8</td>\n      <td>5.0</td>\n      <td>30.237034</td>\n      <td>-97.846914</td>\n      <td>shopping_mall</td>\n      <td>point_of_interest</td>\n      <td>establishment</td>\n      <td>NaN</td>\n      <td>NaN</td>\n      <td>NaN</td>\n      <td>NaN</td>\n      <td>North</td>\n      <td>shopping_mall, point_of_interest, establishment</td>\n    </tr>\n    <tr>\n      <th>Burgerlicious</th>\n      <td>260</td>\n      <td>5.0</td>\n      <td>18.0</td>\n      <td>30.272704</td>\n      <td>-97.728530</td>\n      <td>restaurant</td>\n      <td>food</td>\n      <td>point_of_interest</td>\n      <td>establishment</td>\n      <td>NaN</td>\n      <td>NaN</td>\n      <td>NaN</td>\n      <td>North</td>\n      <td>restaurant, food, point_of_interest, establish...</td>\n    </tr>\n    <tr>\n      <th>P Men's Club</th>\n      <td>580</td>\n      <td>5.0</td>\n      <td>5.0</td>\n      <td>30.219131</td>\n      <td>-97.758263</td>\n      <td>bar</td>\n      <td>point_of_interest</td>\n      <td>establishment</td>\n      <td>NaN</td>\n      <td>NaN</td>\n      <td>NaN</td>\n      <td>NaN</td>\n      <td>North</td>\n      <td>bar, point_of_interest, establishment</td>\n    </tr>\n  </tbody>\n</table>\n<p>387 rows × 14 columns</p>\n</div>"
     },
     "metadata": {},
     "execution_count": 8
    }
   ],
   "source": [
    "df"
   ]
  },
  {
   "cell_type": "code",
   "execution_count": 9,
   "metadata": {},
   "outputs": [],
   "source": [
    "index=1\n",
    "types_dict={}\n",
    "for i in types_list:\n",
    "    types_dict[i]=index\n",
    "    index+=1"
   ]
  },
  {
   "cell_type": "code",
   "execution_count": 10,
   "metadata": {},
   "outputs": [
    {
     "output_type": "execute_result",
     "data": {
      "text/plain": [
       "{'bar, restaurant, food, point_of_interest, establishment': 1,\n",
       " 'park, point_of_interest, establishment': 2,\n",
       " 'restaurant, food, point_of_interest, establishment': 3,\n",
       " 'park, tourist_attraction, point_of_interest, establishment': 4,\n",
       " 'restaurant, meal_takeaway, food, point_of_interest, establishment': 5,\n",
       " 'point_of_interest, establishment': 6,\n",
       " 'cemetery, tourist_attraction, park, point_of_interest, establishment': 7,\n",
       " 'shopping_mall, point_of_interest, establishment': 8,\n",
       " 'car_repair, point_of_interest, store, establishment': 9,\n",
       " 'restaurant, food, point_of_interest, store, establishment': 10,\n",
       " 'tourist_attraction, point_of_interest, establishment': 11,\n",
       " 'restaurant, bar, food, point_of_interest, establishment': 12,\n",
       " 'tourist_attraction, park, point_of_interest, establishment': 13,\n",
       " 'bar, point_of_interest, establishment': 14,\n",
       " 'bar, restaurant, food, point_of_interest, store, establishment': 15,\n",
       " 'tourist_attraction, museum, point_of_interest, establishment': 16,\n",
       " 'museum, tourist_attraction, point_of_interest, establishment': 17,\n",
       " 'art_gallery, tourist_attraction, museum, point_of_interest, establishment': 18,\n",
       " 'point_of_interest, clothing_store, store, establishment': 19,\n",
       " 'museum, point_of_interest, establishment': 20,\n",
       " 'night_club, meal_takeaway, bar, restaurant, food, point_of_interest, establishment': 21,\n",
       " 'aquarium, tourist_attraction, museum, point_of_interest, establishment': 22,\n",
       " 'bakery, restaurant, food, point_of_interest, store, establishment': 23,\n",
       " 'home_goods_store, point_of_interest, clothing_store, store, establishment': 24,\n",
       " 'tourist_attraction, travel_agency, point_of_interest, establishment': 25,\n",
       " 'meal_takeaway, restaurant, food, point_of_interest, establishment': 26,\n",
       " 'church, place_of_worship, point_of_interest, establishment': 27,\n",
       " 'hair_care, jewelry_store, point_of_interest, store, establishment': 28,\n",
       " 'meal_takeaway, cafe, restaurant, food, point_of_interest, store, establishment': 29,\n",
       " 'cafe, restaurant, food, point_of_interest, establishment': 30,\n",
       " 'tourist_attraction, natural_feature, point_of_interest, establishment': 31,\n",
       " 'shopping_mall, car_wash, point_of_interest, establishment': 32,\n",
       " 'real_estate_agency, point_of_interest, establishment': 33,\n",
       " 'meal_delivery, meal_takeaway, restaurant, food, point_of_interest, establishment': 34,\n",
       " 'restaurant, cafe, food, point_of_interest, store, establishment': 35,\n",
       " 'shopping_mall, grocery_or_supermarket, restaurant, food, point_of_interest, store, establishment': 36,\n",
       " 'supermarket, gas_station, grocery_or_supermarket, liquor_store, restaurant, food, point_of_interest': 37,\n",
       " 'movie_theater, point_of_interest, establishment': 38,\n",
       " 'tourist_attraction, church, place_of_worship, point_of_interest, establishment': 39,\n",
       " 'finance, point_of_interest, store, establishment': 40,\n",
       " 'bakery, bar, restaurant, food, point_of_interest, store, establishment': 41,\n",
       " 'cafe, bar, restaurant, food, point_of_interest, store, establishment': 42,\n",
       " 'tourist_attraction, local_government_office, point_of_interest, establishment': 43,\n",
       " 'meal_takeaway, bar, restaurant, food, point_of_interest, establishment': 44}"
      ]
     },
     "metadata": {},
     "execution_count": 10
    }
   ],
   "source": [
    "types_dict"
   ]
  },
  {
   "cell_type": "code",
   "execution_count": 11,
   "metadata": {},
   "outputs": [],
   "source": [
    "df=df.assign(\n",
    "        types=lambda df: df[\"types\"].replace(\n",
    "            types_dict)\n",
    "        )"
   ]
  },
  {
   "cell_type": "code",
   "execution_count": 12,
   "metadata": {},
   "outputs": [
    {
     "output_type": "execute_result",
     "data": {
      "text/plain": [
       "                                  id  rating  user_ratings_total   latitude  \\\n",
       "name                                                                          \n",
       "Mikado Ryotei                    706     4.5               369.0  30.373440   \n",
       "Earl J. Pomerleau Pocket Park    708     4.3                 6.0  30.318483   \n",
       "La Placita                       716     4.4               241.0  30.194589   \n",
       "Dittmar District Park            717     4.4               297.0  30.182571   \n",
       "Rosa's Café & Tortilla Factory   719     4.2              1305.0  30.171329   \n",
       "...                              ...     ...                 ...        ...   \n",
       "Heritage Oaks Neighborhood Park  378     4.7                43.0  30.234326   \n",
       "Centre North                     287     3.6                16.0  30.351838   \n",
       "Oak Acres                        565     4.8                 5.0  30.237034   \n",
       "Burgerlicious                    260     5.0                18.0  30.272704   \n",
       "P Men's Club                     580     5.0                 5.0  30.219131   \n",
       "\n",
       "                                 longitude         types1  \\\n",
       "name                                                        \n",
       "Mikado Ryotei                   -97.724686            bar   \n",
       "Earl J. Pomerleau Pocket Park   -97.686791           park   \n",
       "La Placita                      -97.745189     restaurant   \n",
       "Dittmar District Park           -97.799721           park   \n",
       "Rosa's Café & Tortilla Factory  -97.799098     restaurant   \n",
       "...                                    ...            ...   \n",
       "Heritage Oaks Neighborhood Park -97.737227           park   \n",
       "Centre North                    -97.709802  shopping_mall   \n",
       "Oak Acres                       -97.846914  shopping_mall   \n",
       "Burgerlicious                   -97.728530     restaurant   \n",
       "P Men's Club                    -97.758263            bar   \n",
       "\n",
       "                                              types2              types3  \\\n",
       "name                                                                       \n",
       "Mikado Ryotei                             restaurant                food   \n",
       "Earl J. Pomerleau Pocket Park      point_of_interest       establishment   \n",
       "La Placita                                      food   point_of_interest   \n",
       "Dittmar District Park             tourist_attraction   point_of_interest   \n",
       "Rosa's Café & Tortilla Factory         meal_takeaway                food   \n",
       "...                                              ...                 ...   \n",
       "Heritage Oaks Neighborhood Park   tourist_attraction   point_of_interest   \n",
       "Centre North                       point_of_interest       establishment   \n",
       "Oak Acres                          point_of_interest       establishment   \n",
       "Burgerlicious                                   food   point_of_interest   \n",
       "P Men's Club                       point_of_interest       establishment   \n",
       "\n",
       "                                             types4          types5 types6  \\\n",
       "name                                                                         \n",
       "Mikado Ryotei                     point_of_interest   establishment    NaN   \n",
       "Earl J. Pomerleau Pocket Park                   NaN             NaN    NaN   \n",
       "La Placita                            establishment             NaN    NaN   \n",
       "Dittmar District Park                 establishment             NaN    NaN   \n",
       "Rosa's Café & Tortilla Factory    point_of_interest   establishment    NaN   \n",
       "...                                             ...             ...    ...   \n",
       "Heritage Oaks Neighborhood Park       establishment             NaN    NaN   \n",
       "Centre North                                    NaN             NaN    NaN   \n",
       "Oak Acres                                       NaN             NaN    NaN   \n",
       "Burgerlicious                         establishment             NaN    NaN   \n",
       "P Men's Club                                    NaN             NaN    NaN   \n",
       "\n",
       "                                types7 latitude_region  types  \n",
       "name                                                           \n",
       "Mikado Ryotei                      NaN           North      1  \n",
       "Earl J. Pomerleau Pocket Park      NaN           North      2  \n",
       "La Placita                         NaN         Central      3  \n",
       "Dittmar District Park              NaN         Central      4  \n",
       "Rosa's Café & Tortilla Factory     NaN         Central      5  \n",
       "...                                ...             ...    ...  \n",
       "Heritage Oaks Neighborhood Park    NaN           North      4  \n",
       "Centre North                       NaN           North      8  \n",
       "Oak Acres                          NaN           North      8  \n",
       "Burgerlicious                      NaN           North      3  \n",
       "P Men's Club                       NaN           North     14  \n",
       "\n",
       "[387 rows x 14 columns]"
      ],
      "text/html": "<div>\n<style scoped>\n    .dataframe tbody tr th:only-of-type {\n        vertical-align: middle;\n    }\n\n    .dataframe tbody tr th {\n        vertical-align: top;\n    }\n\n    .dataframe thead th {\n        text-align: right;\n    }\n</style>\n<table border=\"1\" class=\"dataframe\">\n  <thead>\n    <tr style=\"text-align: right;\">\n      <th></th>\n      <th>id</th>\n      <th>rating</th>\n      <th>user_ratings_total</th>\n      <th>latitude</th>\n      <th>longitude</th>\n      <th>types1</th>\n      <th>types2</th>\n      <th>types3</th>\n      <th>types4</th>\n      <th>types5</th>\n      <th>types6</th>\n      <th>types7</th>\n      <th>latitude_region</th>\n      <th>types</th>\n    </tr>\n    <tr>\n      <th>name</th>\n      <th></th>\n      <th></th>\n      <th></th>\n      <th></th>\n      <th></th>\n      <th></th>\n      <th></th>\n      <th></th>\n      <th></th>\n      <th></th>\n      <th></th>\n      <th></th>\n      <th></th>\n      <th></th>\n    </tr>\n  </thead>\n  <tbody>\n    <tr>\n      <th>Mikado Ryotei</th>\n      <td>706</td>\n      <td>4.5</td>\n      <td>369.0</td>\n      <td>30.373440</td>\n      <td>-97.724686</td>\n      <td>bar</td>\n      <td>restaurant</td>\n      <td>food</td>\n      <td>point_of_interest</td>\n      <td>establishment</td>\n      <td>NaN</td>\n      <td>NaN</td>\n      <td>North</td>\n      <td>1</td>\n    </tr>\n    <tr>\n      <th>Earl J. Pomerleau Pocket Park</th>\n      <td>708</td>\n      <td>4.3</td>\n      <td>6.0</td>\n      <td>30.318483</td>\n      <td>-97.686791</td>\n      <td>park</td>\n      <td>point_of_interest</td>\n      <td>establishment</td>\n      <td>NaN</td>\n      <td>NaN</td>\n      <td>NaN</td>\n      <td>NaN</td>\n      <td>North</td>\n      <td>2</td>\n    </tr>\n    <tr>\n      <th>La Placita</th>\n      <td>716</td>\n      <td>4.4</td>\n      <td>241.0</td>\n      <td>30.194589</td>\n      <td>-97.745189</td>\n      <td>restaurant</td>\n      <td>food</td>\n      <td>point_of_interest</td>\n      <td>establishment</td>\n      <td>NaN</td>\n      <td>NaN</td>\n      <td>NaN</td>\n      <td>Central</td>\n      <td>3</td>\n    </tr>\n    <tr>\n      <th>Dittmar District Park</th>\n      <td>717</td>\n      <td>4.4</td>\n      <td>297.0</td>\n      <td>30.182571</td>\n      <td>-97.799721</td>\n      <td>park</td>\n      <td>tourist_attraction</td>\n      <td>point_of_interest</td>\n      <td>establishment</td>\n      <td>NaN</td>\n      <td>NaN</td>\n      <td>NaN</td>\n      <td>Central</td>\n      <td>4</td>\n    </tr>\n    <tr>\n      <th>Rosa's Café &amp; Tortilla Factory</th>\n      <td>719</td>\n      <td>4.2</td>\n      <td>1305.0</td>\n      <td>30.171329</td>\n      <td>-97.799098</td>\n      <td>restaurant</td>\n      <td>meal_takeaway</td>\n      <td>food</td>\n      <td>point_of_interest</td>\n      <td>establishment</td>\n      <td>NaN</td>\n      <td>NaN</td>\n      <td>Central</td>\n      <td>5</td>\n    </tr>\n    <tr>\n      <th>...</th>\n      <td>...</td>\n      <td>...</td>\n      <td>...</td>\n      <td>...</td>\n      <td>...</td>\n      <td>...</td>\n      <td>...</td>\n      <td>...</td>\n      <td>...</td>\n      <td>...</td>\n      <td>...</td>\n      <td>...</td>\n      <td>...</td>\n      <td>...</td>\n    </tr>\n    <tr>\n      <th>Heritage Oaks Neighborhood Park</th>\n      <td>378</td>\n      <td>4.7</td>\n      <td>43.0</td>\n      <td>30.234326</td>\n      <td>-97.737227</td>\n      <td>park</td>\n      <td>tourist_attraction</td>\n      <td>point_of_interest</td>\n      <td>establishment</td>\n      <td>NaN</td>\n      <td>NaN</td>\n      <td>NaN</td>\n      <td>North</td>\n      <td>4</td>\n    </tr>\n    <tr>\n      <th>Centre North</th>\n      <td>287</td>\n      <td>3.6</td>\n      <td>16.0</td>\n      <td>30.351838</td>\n      <td>-97.709802</td>\n      <td>shopping_mall</td>\n      <td>point_of_interest</td>\n      <td>establishment</td>\n      <td>NaN</td>\n      <td>NaN</td>\n      <td>NaN</td>\n      <td>NaN</td>\n      <td>North</td>\n      <td>8</td>\n    </tr>\n    <tr>\n      <th>Oak Acres</th>\n      <td>565</td>\n      <td>4.8</td>\n      <td>5.0</td>\n      <td>30.237034</td>\n      <td>-97.846914</td>\n      <td>shopping_mall</td>\n      <td>point_of_interest</td>\n      <td>establishment</td>\n      <td>NaN</td>\n      <td>NaN</td>\n      <td>NaN</td>\n      <td>NaN</td>\n      <td>North</td>\n      <td>8</td>\n    </tr>\n    <tr>\n      <th>Burgerlicious</th>\n      <td>260</td>\n      <td>5.0</td>\n      <td>18.0</td>\n      <td>30.272704</td>\n      <td>-97.728530</td>\n      <td>restaurant</td>\n      <td>food</td>\n      <td>point_of_interest</td>\n      <td>establishment</td>\n      <td>NaN</td>\n      <td>NaN</td>\n      <td>NaN</td>\n      <td>North</td>\n      <td>3</td>\n    </tr>\n    <tr>\n      <th>P Men's Club</th>\n      <td>580</td>\n      <td>5.0</td>\n      <td>5.0</td>\n      <td>30.219131</td>\n      <td>-97.758263</td>\n      <td>bar</td>\n      <td>point_of_interest</td>\n      <td>establishment</td>\n      <td>NaN</td>\n      <td>NaN</td>\n      <td>NaN</td>\n      <td>NaN</td>\n      <td>North</td>\n      <td>14</td>\n    </tr>\n  </tbody>\n</table>\n<p>387 rows × 14 columns</p>\n</div>"
     },
     "metadata": {},
     "execution_count": 12
    }
   ],
   "source": [
    "df"
   ]
  },
  {
   "cell_type": "code",
   "execution_count": null,
   "metadata": {},
   "outputs": [],
   "source": []
  },
  {
   "cell_type": "code",
   "execution_count": 13,
   "metadata": {},
   "outputs": [],
   "source": [
    "target = \"rating\""
   ]
  },
  {
   "cell_type": "code",
   "execution_count": 14,
   "metadata": {},
   "outputs": [],
   "source": [
    "X = df.drop(\n",
    "    columns=[\n",
    "        \"id\",\n",
    "        \"rating\",\n",
    "        \"types1\",\n",
    "        \"types2\",\n",
    "        \"types3\",\n",
    "        \"types4\",\n",
    "        \"types5\",\n",
    "        \"types6\",\n",
    "        \"types7\",\n",
    "        \"latitude_region\",\n",
    "        \"types\",\n",
    "    ],\n",
    "    axis=1,\n",
    ").values\n",
    "y = df[target].values"
   ]
  },
  {
   "cell_type": "code",
   "execution_count": 15,
   "metadata": {},
   "outputs": [],
   "source": [
    "X_train, X_test, y_train, y_test = train_test_split(X, y, random_state=20)"
   ]
  },
  {
   "cell_type": "code",
   "execution_count": 16,
   "metadata": {},
   "outputs": [],
   "source": [
    "linear_regression = LinearRegression()"
   ]
  },
  {
   "cell_type": "code",
   "execution_count": 17,
   "metadata": {},
   "outputs": [
    {
     "output_type": "execute_result",
     "data": {
      "text/plain": [
       "LinearRegression()"
      ]
     },
     "metadata": {},
     "execution_count": 17
    }
   ],
   "source": [
    "linear_regression.fit(X_train, y_train)"
   ]
  },
  {
   "cell_type": "code",
   "execution_count": 18,
   "metadata": {},
   "outputs": [],
   "source": [
    "y_test_pred = linear_regression.predict(X_test)"
   ]
  },
  {
   "cell_type": "code",
   "execution_count": 19,
   "metadata": {},
   "outputs": [
    {
     "output_type": "execute_result",
     "data": {
      "text/plain": [
       "0.39421085512325804"
      ]
     },
     "metadata": {},
     "execution_count": 19
    }
   ],
   "source": [
    "mean_squared_error(y_test, y_test_pred)"
   ]
  },
  {
   "cell_type": "code",
   "execution_count": 20,
   "metadata": {},
   "outputs": [
    {
     "output_type": "execute_result",
     "data": {
      "text/plain": [
       "0.6119587628865979"
      ]
     },
     "metadata": {},
     "execution_count": 20
    }
   ],
   "source": [
    "decsion_tree = DecisionTreeRegressor()\n",
    "decsion_tree.fit(X_train, y_train)\n",
    "y_test_pred = decsion_tree.predict(X_test)\n",
    "mean_squared_error(y_test, y_test_pred)"
   ]
  },
  {
   "cell_type": "code",
   "execution_count": 21,
   "metadata": {},
   "outputs": [
    {
     "output_type": "execute_result",
     "data": {
      "text/plain": [
       "0.28681671134020637"
      ]
     },
     "metadata": {},
     "execution_count": 21
    }
   ],
   "source": [
    "random_forest = RandomForestRegressor()\n",
    "random_forest.fit(X_train, y_train)\n",
    "y_test_pred = random_forest.predict(X_test)\n",
    "mean_squared_error(y_test, y_test_pred)"
   ]
  },
  {
   "cell_type": "code",
   "execution_count": 22,
   "metadata": {},
   "outputs": [
    {
     "output_type": "execute_result",
     "data": {
      "text/plain": [
       "3.1247697941178565"
      ]
     },
     "metadata": {},
     "execution_count": 22
    }
   ],
   "source": [
    "svr = LinearSVR()\n",
    "svr.fit(X_train, y_train)\n",
    "y_test_pred = svr.predict(X_test)\n",
    "mean_squared_error(y_test, y_test_pred)"
   ]
  },
  {
   "cell_type": "code",
   "execution_count": 23,
   "metadata": {},
   "outputs": [
    {
     "output_type": "execute_result",
     "data": {
      "text/plain": [
       "array([4.314])"
      ]
     },
     "metadata": {},
     "execution_count": 23
    }
   ],
   "source": [
    "la_placita = (\n",
    "    df.drop(\n",
    "        columns=[\n",
    "            \"id\",\n",
    "            \"rating\",\n",
    "            \"types1\",\n",
    "            \"types2\",\n",
    "            \"types3\",\n",
    "            \"types4\",\n",
    "            \"types5\",\n",
    "            \"types6\",\n",
    "            \"types7\",\n",
    "            \"latitude_region\",\n",
    "            \"types\",\n",
    "        ],\n",
    "        axis=1,\n",
    "    )\n",
    "    .loc[\"La Placita\"]\n",
    "    .values\n",
    ")\n",
    "random_forest.predict([la_placita])"
   ]
  },
  {
   "cell_type": "code",
   "execution_count": 32,
   "metadata": {},
   "outputs": [
    {
     "output_type": "execute_result",
     "data": {
      "text/plain": [
       "dtype('O')"
      ]
     },
     "metadata": {},
     "execution_count": 32
    }
   ],
   "source": [
    "df.values.dtype"
   ]
  },
  {
   "cell_type": "code",
   "execution_count": 24,
   "metadata": {},
   "outputs": [],
   "source": [
    "X1 = df.drop(\n",
    "    columns=[\n",
    "        \"id\",\n",
    "        \"rating\",\n",
    "        \"types1\",\n",
    "        \"types2\",\n",
    "        \"types3\",\n",
    "        \"types4\",\n",
    "        \"types5\",\n",
    "        \"types6\",\n",
    "        \"types7\",\n",
    "        \"latitude_region\",\n",
    "    ],\n",
    "    axis=1,\n",
    ").values"
   ]
  },
  {
   "cell_type": "code",
   "execution_count": 25,
   "metadata": {},
   "outputs": [
    {
     "output_type": "execute_result",
     "data": {
      "text/plain": [
       "array([[369.       ,  30.37344  , -97.724686 ,   1.       ],\n",
       "       [  6.       ,  30.3184832, -97.6867909,   2.       ],\n",
       "       [241.       ,  30.1945888, -97.7451895,   3.       ],\n",
       "       ...,\n",
       "       [  5.       ,  30.2370336, -97.8469136,   8.       ],\n",
       "       [ 18.       ,  30.2727039, -97.7285304,   3.       ],\n",
       "       [  5.       ,  30.2191314, -97.7582626,  14.       ]])"
      ]
     },
     "metadata": {},
     "execution_count": 25
    }
   ],
   "source": [
    "X1"
   ]
  },
  {
   "cell_type": "code",
   "execution_count": 26,
   "metadata": {},
   "outputs": [
    {
     "output_type": "execute_result",
     "data": {
      "text/plain": [
       "dtype('float64')"
      ]
     },
     "metadata": {},
     "execution_count": 26
    }
   ],
   "source": [
    "X1.dtype"
   ]
  },
  {
   "cell_type": "code",
   "execution_count": 27,
   "metadata": {},
   "outputs": [],
   "source": [
    "cf = ColumnTransformer(\n",
    "    [\n",
    "        (\"numerical\", \"passthrough\", [\"user_ratings_total\", \"latitude\", \"longitude\"],),\n",
    "        (\"categorical\", OneHotEncoder(drop=\"first\"), [\"types\"]),\n",
    "    ]\n",
    ")"
   ]
  },
  {
   "cell_type": "code",
   "execution_count": 28,
   "metadata": {},
   "outputs": [],
   "source": [
    "rf_pipeline = make_pipeline(cf, RandomForestRegressor())"
   ]
  },
  {
   "cell_type": "code",
   "execution_count": 29,
   "metadata": {},
   "outputs": [],
   "source": [
    "# cf.get_feature_names()"
   ]
  },
  {
   "cell_type": "code",
   "execution_count": 30,
   "metadata": {},
   "outputs": [
    {
     "output_type": "error",
     "ename": "ValueError",
     "evalue": "Specifying the columns using strings is only supported for pandas DataFrames",
     "traceback": [
      "\u001b[1;31m---------------------------------------------------------------------------\u001b[0m",
      "\u001b[1;31mAttributeError\u001b[0m                            Traceback (most recent call last)",
      "\u001b[1;32m~\\AppData\\Local\\Programs\\Python\\Python37\\lib\\site-packages\\sklearn\\utils\\__init__.py\u001b[0m in \u001b[0;36m_get_column_indices\u001b[1;34m(X, key)\u001b[0m\n\u001b[0;32m    373\u001b[0m         \u001b[1;32mtry\u001b[0m\u001b[1;33m:\u001b[0m\u001b[1;33m\u001b[0m\u001b[1;33m\u001b[0m\u001b[0m\n\u001b[1;32m--> 374\u001b[1;33m             \u001b[0mall_columns\u001b[0m \u001b[1;33m=\u001b[0m \u001b[0mX\u001b[0m\u001b[1;33m.\u001b[0m\u001b[0mcolumns\u001b[0m\u001b[1;33m\u001b[0m\u001b[1;33m\u001b[0m\u001b[0m\n\u001b[0m\u001b[0;32m    375\u001b[0m         \u001b[1;32mexcept\u001b[0m \u001b[0mAttributeError\u001b[0m\u001b[1;33m:\u001b[0m\u001b[1;33m\u001b[0m\u001b[1;33m\u001b[0m\u001b[0m\n",
      "\u001b[1;31mAttributeError\u001b[0m: 'numpy.ndarray' object has no attribute 'columns'",
      "\nDuring handling of the above exception, another exception occurred:\n",
      "\u001b[1;31mValueError\u001b[0m                                Traceback (most recent call last)",
      "\u001b[1;32m<ipython-input-30-55f5093c8a60>\u001b[0m in \u001b[0;36m<module>\u001b[1;34m\u001b[0m\n\u001b[1;32m----> 1\u001b[1;33m \u001b[0mcf\u001b[0m\u001b[1;33m.\u001b[0m\u001b[0mfit_transform\u001b[0m\u001b[1;33m(\u001b[0m\u001b[0mX1\u001b[0m\u001b[1;33m)\u001b[0m\u001b[1;33m\u001b[0m\u001b[1;33m\u001b[0m\u001b[0m\n\u001b[0m",
      "\u001b[1;32m~\\AppData\\Local\\Programs\\Python\\Python37\\lib\\site-packages\\sklearn\\compose\\_column_transformer.py\u001b[0m in \u001b[0;36mfit_transform\u001b[1;34m(self, X, y)\u001b[0m\n\u001b[0;32m    504\u001b[0m         \u001b[0mself\u001b[0m\u001b[1;33m.\u001b[0m\u001b[0m_validate_transformers\u001b[0m\u001b[1;33m(\u001b[0m\u001b[1;33m)\u001b[0m\u001b[1;33m\u001b[0m\u001b[1;33m\u001b[0m\u001b[0m\n\u001b[0;32m    505\u001b[0m         \u001b[0mself\u001b[0m\u001b[1;33m.\u001b[0m\u001b[0m_validate_column_callables\u001b[0m\u001b[1;33m(\u001b[0m\u001b[0mX\u001b[0m\u001b[1;33m)\u001b[0m\u001b[1;33m\u001b[0m\u001b[1;33m\u001b[0m\u001b[0m\n\u001b[1;32m--> 506\u001b[1;33m         \u001b[0mself\u001b[0m\u001b[1;33m.\u001b[0m\u001b[0m_validate_remainder\u001b[0m\u001b[1;33m(\u001b[0m\u001b[0mX\u001b[0m\u001b[1;33m)\u001b[0m\u001b[1;33m\u001b[0m\u001b[1;33m\u001b[0m\u001b[0m\n\u001b[0m\u001b[0;32m    507\u001b[0m \u001b[1;33m\u001b[0m\u001b[0m\n\u001b[0;32m    508\u001b[0m         \u001b[0mresult\u001b[0m \u001b[1;33m=\u001b[0m \u001b[0mself\u001b[0m\u001b[1;33m.\u001b[0m\u001b[0m_fit_transform\u001b[0m\u001b[1;33m(\u001b[0m\u001b[0mX\u001b[0m\u001b[1;33m,\u001b[0m \u001b[0my\u001b[0m\u001b[1;33m,\u001b[0m \u001b[0m_fit_transform_one\u001b[0m\u001b[1;33m)\u001b[0m\u001b[1;33m\u001b[0m\u001b[1;33m\u001b[0m\u001b[0m\n",
      "\u001b[1;32m~\\AppData\\Local\\Programs\\Python\\Python37\\lib\\site-packages\\sklearn\\compose\\_column_transformer.py\u001b[0m in \u001b[0;36m_validate_remainder\u001b[1;34m(self, X)\u001b[0m\n\u001b[0;32m    330\u001b[0m         \u001b[0mcols\u001b[0m \u001b[1;33m=\u001b[0m \u001b[1;33m[\u001b[0m\u001b[1;33m]\u001b[0m\u001b[1;33m\u001b[0m\u001b[1;33m\u001b[0m\u001b[0m\n\u001b[0;32m    331\u001b[0m         \u001b[1;32mfor\u001b[0m \u001b[0mcolumns\u001b[0m \u001b[1;32min\u001b[0m \u001b[0mself\u001b[0m\u001b[1;33m.\u001b[0m\u001b[0m_columns\u001b[0m\u001b[1;33m:\u001b[0m\u001b[1;33m\u001b[0m\u001b[1;33m\u001b[0m\u001b[0m\n\u001b[1;32m--> 332\u001b[1;33m             \u001b[0mcols\u001b[0m\u001b[1;33m.\u001b[0m\u001b[0mextend\u001b[0m\u001b[1;33m(\u001b[0m\u001b[0m_get_column_indices\u001b[0m\u001b[1;33m(\u001b[0m\u001b[0mX\u001b[0m\u001b[1;33m,\u001b[0m \u001b[0mcolumns\u001b[0m\u001b[1;33m)\u001b[0m\u001b[1;33m)\u001b[0m\u001b[1;33m\u001b[0m\u001b[1;33m\u001b[0m\u001b[0m\n\u001b[0m\u001b[0;32m    333\u001b[0m \u001b[1;33m\u001b[0m\u001b[0m\n\u001b[0;32m    334\u001b[0m         \u001b[0mremaining_idx\u001b[0m \u001b[1;33m=\u001b[0m \u001b[0msorted\u001b[0m\u001b[1;33m(\u001b[0m\u001b[0mset\u001b[0m\u001b[1;33m(\u001b[0m\u001b[0mrange\u001b[0m\u001b[1;33m(\u001b[0m\u001b[0mself\u001b[0m\u001b[1;33m.\u001b[0m\u001b[0m_n_features\u001b[0m\u001b[1;33m)\u001b[0m\u001b[1;33m)\u001b[0m \u001b[1;33m-\u001b[0m \u001b[0mset\u001b[0m\u001b[1;33m(\u001b[0m\u001b[0mcols\u001b[0m\u001b[1;33m)\u001b[0m\u001b[1;33m)\u001b[0m\u001b[1;33m\u001b[0m\u001b[1;33m\u001b[0m\u001b[0m\n",
      "\u001b[1;32m~\\AppData\\Local\\Programs\\Python\\Python37\\lib\\site-packages\\sklearn\\utils\\__init__.py\u001b[0m in \u001b[0;36m_get_column_indices\u001b[1;34m(X, key)\u001b[0m\n\u001b[0;32m    374\u001b[0m             \u001b[0mall_columns\u001b[0m \u001b[1;33m=\u001b[0m \u001b[0mX\u001b[0m\u001b[1;33m.\u001b[0m\u001b[0mcolumns\u001b[0m\u001b[1;33m\u001b[0m\u001b[1;33m\u001b[0m\u001b[0m\n\u001b[0;32m    375\u001b[0m         \u001b[1;32mexcept\u001b[0m \u001b[0mAttributeError\u001b[0m\u001b[1;33m:\u001b[0m\u001b[1;33m\u001b[0m\u001b[1;33m\u001b[0m\u001b[0m\n\u001b[1;32m--> 376\u001b[1;33m             raise ValueError(\"Specifying the columns using strings is only \"\n\u001b[0m\u001b[0;32m    377\u001b[0m                              \"supported for pandas DataFrames\")\n\u001b[0;32m    378\u001b[0m         \u001b[1;32mif\u001b[0m \u001b[0misinstance\u001b[0m\u001b[1;33m(\u001b[0m\u001b[0mkey\u001b[0m\u001b[1;33m,\u001b[0m \u001b[0mstr\u001b[0m\u001b[1;33m)\u001b[0m\u001b[1;33m:\u001b[0m\u001b[1;33m\u001b[0m\u001b[1;33m\u001b[0m\u001b[0m\n",
      "\u001b[1;31mValueError\u001b[0m: Specifying the columns using strings is only supported for pandas DataFrames"
     ]
    }
   ],
   "source": [
    "cf.fit_transform(X1)"
   ]
  },
  {
   "cell_type": "code",
   "execution_count": 31,
   "metadata": {},
   "outputs": [
    {
     "output_type": "error",
     "ename": "ValueError",
     "evalue": "Specifying the columns using strings is only supported for pandas DataFrames",
     "traceback": [
      "\u001b[1;31m---------------------------------------------------------------------------\u001b[0m",
      "\u001b[1;31mAttributeError\u001b[0m                            Traceback (most recent call last)",
      "\u001b[1;32m~\\AppData\\Local\\Programs\\Python\\Python37\\lib\\site-packages\\sklearn\\utils\\__init__.py\u001b[0m in \u001b[0;36m_get_column_indices\u001b[1;34m(X, key)\u001b[0m\n\u001b[0;32m    373\u001b[0m         \u001b[1;32mtry\u001b[0m\u001b[1;33m:\u001b[0m\u001b[1;33m\u001b[0m\u001b[1;33m\u001b[0m\u001b[0m\n\u001b[1;32m--> 374\u001b[1;33m             \u001b[0mall_columns\u001b[0m \u001b[1;33m=\u001b[0m \u001b[0mX\u001b[0m\u001b[1;33m.\u001b[0m\u001b[0mcolumns\u001b[0m\u001b[1;33m\u001b[0m\u001b[1;33m\u001b[0m\u001b[0m\n\u001b[0m\u001b[0;32m    375\u001b[0m         \u001b[1;32mexcept\u001b[0m \u001b[0mAttributeError\u001b[0m\u001b[1;33m:\u001b[0m\u001b[1;33m\u001b[0m\u001b[1;33m\u001b[0m\u001b[0m\n",
      "\u001b[1;31mAttributeError\u001b[0m: 'numpy.ndarray' object has no attribute 'columns'",
      "\nDuring handling of the above exception, another exception occurred:\n",
      "\u001b[1;31mValueError\u001b[0m                                Traceback (most recent call last)",
      "\u001b[1;32m<ipython-input-31-ab2a9e22bd05>\u001b[0m in \u001b[0;36m<module>\u001b[1;34m\u001b[0m\n\u001b[1;32m----> 1\u001b[1;33m \u001b[0mcf\u001b[0m\u001b[1;33m.\u001b[0m\u001b[0mfit\u001b[0m\u001b[1;33m(\u001b[0m\u001b[0mX1\u001b[0m\u001b[1;33m)\u001b[0m\u001b[1;33m\u001b[0m\u001b[1;33m\u001b[0m\u001b[0m\n\u001b[0m",
      "\u001b[1;32m~\\AppData\\Local\\Programs\\Python\\Python37\\lib\\site-packages\\sklearn\\compose\\_column_transformer.py\u001b[0m in \u001b[0;36mfit\u001b[1;34m(self, X, y)\u001b[0m\n\u001b[0;32m    469\u001b[0m         \u001b[1;31m# we use fit_transform to make sure to set sparse_output_ (for which we\u001b[0m\u001b[1;33m\u001b[0m\u001b[1;33m\u001b[0m\u001b[1;33m\u001b[0m\u001b[0m\n\u001b[0;32m    470\u001b[0m         \u001b[1;31m# need the transformed data) to have consistent output type in predict\u001b[0m\u001b[1;33m\u001b[0m\u001b[1;33m\u001b[0m\u001b[1;33m\u001b[0m\u001b[0m\n\u001b[1;32m--> 471\u001b[1;33m         \u001b[0mself\u001b[0m\u001b[1;33m.\u001b[0m\u001b[0mfit_transform\u001b[0m\u001b[1;33m(\u001b[0m\u001b[0mX\u001b[0m\u001b[1;33m,\u001b[0m \u001b[0my\u001b[0m\u001b[1;33m=\u001b[0m\u001b[0my\u001b[0m\u001b[1;33m)\u001b[0m\u001b[1;33m\u001b[0m\u001b[1;33m\u001b[0m\u001b[0m\n\u001b[0m\u001b[0;32m    472\u001b[0m         \u001b[1;32mreturn\u001b[0m \u001b[0mself\u001b[0m\u001b[1;33m\u001b[0m\u001b[1;33m\u001b[0m\u001b[0m\n\u001b[0;32m    473\u001b[0m \u001b[1;33m\u001b[0m\u001b[0m\n",
      "\u001b[1;32m~\\AppData\\Local\\Programs\\Python\\Python37\\lib\\site-packages\\sklearn\\compose\\_column_transformer.py\u001b[0m in \u001b[0;36mfit_transform\u001b[1;34m(self, X, y)\u001b[0m\n\u001b[0;32m    504\u001b[0m         \u001b[0mself\u001b[0m\u001b[1;33m.\u001b[0m\u001b[0m_validate_transformers\u001b[0m\u001b[1;33m(\u001b[0m\u001b[1;33m)\u001b[0m\u001b[1;33m\u001b[0m\u001b[1;33m\u001b[0m\u001b[0m\n\u001b[0;32m    505\u001b[0m         \u001b[0mself\u001b[0m\u001b[1;33m.\u001b[0m\u001b[0m_validate_column_callables\u001b[0m\u001b[1;33m(\u001b[0m\u001b[0mX\u001b[0m\u001b[1;33m)\u001b[0m\u001b[1;33m\u001b[0m\u001b[1;33m\u001b[0m\u001b[0m\n\u001b[1;32m--> 506\u001b[1;33m         \u001b[0mself\u001b[0m\u001b[1;33m.\u001b[0m\u001b[0m_validate_remainder\u001b[0m\u001b[1;33m(\u001b[0m\u001b[0mX\u001b[0m\u001b[1;33m)\u001b[0m\u001b[1;33m\u001b[0m\u001b[1;33m\u001b[0m\u001b[0m\n\u001b[0m\u001b[0;32m    507\u001b[0m \u001b[1;33m\u001b[0m\u001b[0m\n\u001b[0;32m    508\u001b[0m         \u001b[0mresult\u001b[0m \u001b[1;33m=\u001b[0m \u001b[0mself\u001b[0m\u001b[1;33m.\u001b[0m\u001b[0m_fit_transform\u001b[0m\u001b[1;33m(\u001b[0m\u001b[0mX\u001b[0m\u001b[1;33m,\u001b[0m \u001b[0my\u001b[0m\u001b[1;33m,\u001b[0m \u001b[0m_fit_transform_one\u001b[0m\u001b[1;33m)\u001b[0m\u001b[1;33m\u001b[0m\u001b[1;33m\u001b[0m\u001b[0m\n",
      "\u001b[1;32m~\\AppData\\Local\\Programs\\Python\\Python37\\lib\\site-packages\\sklearn\\compose\\_column_transformer.py\u001b[0m in \u001b[0;36m_validate_remainder\u001b[1;34m(self, X)\u001b[0m\n\u001b[0;32m    330\u001b[0m         \u001b[0mcols\u001b[0m \u001b[1;33m=\u001b[0m \u001b[1;33m[\u001b[0m\u001b[1;33m]\u001b[0m\u001b[1;33m\u001b[0m\u001b[1;33m\u001b[0m\u001b[0m\n\u001b[0;32m    331\u001b[0m         \u001b[1;32mfor\u001b[0m \u001b[0mcolumns\u001b[0m \u001b[1;32min\u001b[0m \u001b[0mself\u001b[0m\u001b[1;33m.\u001b[0m\u001b[0m_columns\u001b[0m\u001b[1;33m:\u001b[0m\u001b[1;33m\u001b[0m\u001b[1;33m\u001b[0m\u001b[0m\n\u001b[1;32m--> 332\u001b[1;33m             \u001b[0mcols\u001b[0m\u001b[1;33m.\u001b[0m\u001b[0mextend\u001b[0m\u001b[1;33m(\u001b[0m\u001b[0m_get_column_indices\u001b[0m\u001b[1;33m(\u001b[0m\u001b[0mX\u001b[0m\u001b[1;33m,\u001b[0m \u001b[0mcolumns\u001b[0m\u001b[1;33m)\u001b[0m\u001b[1;33m)\u001b[0m\u001b[1;33m\u001b[0m\u001b[1;33m\u001b[0m\u001b[0m\n\u001b[0m\u001b[0;32m    333\u001b[0m \u001b[1;33m\u001b[0m\u001b[0m\n\u001b[0;32m    334\u001b[0m         \u001b[0mremaining_idx\u001b[0m \u001b[1;33m=\u001b[0m \u001b[0msorted\u001b[0m\u001b[1;33m(\u001b[0m\u001b[0mset\u001b[0m\u001b[1;33m(\u001b[0m\u001b[0mrange\u001b[0m\u001b[1;33m(\u001b[0m\u001b[0mself\u001b[0m\u001b[1;33m.\u001b[0m\u001b[0m_n_features\u001b[0m\u001b[1;33m)\u001b[0m\u001b[1;33m)\u001b[0m \u001b[1;33m-\u001b[0m \u001b[0mset\u001b[0m\u001b[1;33m(\u001b[0m\u001b[0mcols\u001b[0m\u001b[1;33m)\u001b[0m\u001b[1;33m)\u001b[0m\u001b[1;33m\u001b[0m\u001b[1;33m\u001b[0m\u001b[0m\n",
      "\u001b[1;32m~\\AppData\\Local\\Programs\\Python\\Python37\\lib\\site-packages\\sklearn\\utils\\__init__.py\u001b[0m in \u001b[0;36m_get_column_indices\u001b[1;34m(X, key)\u001b[0m\n\u001b[0;32m    374\u001b[0m             \u001b[0mall_columns\u001b[0m \u001b[1;33m=\u001b[0m \u001b[0mX\u001b[0m\u001b[1;33m.\u001b[0m\u001b[0mcolumns\u001b[0m\u001b[1;33m\u001b[0m\u001b[1;33m\u001b[0m\u001b[0m\n\u001b[0;32m    375\u001b[0m         \u001b[1;32mexcept\u001b[0m \u001b[0mAttributeError\u001b[0m\u001b[1;33m:\u001b[0m\u001b[1;33m\u001b[0m\u001b[1;33m\u001b[0m\u001b[0m\n\u001b[1;32m--> 376\u001b[1;33m             raise ValueError(\"Specifying the columns using strings is only \"\n\u001b[0m\u001b[0;32m    377\u001b[0m                              \"supported for pandas DataFrames\")\n\u001b[0;32m    378\u001b[0m         \u001b[1;32mif\u001b[0m \u001b[0misinstance\u001b[0m\u001b[1;33m(\u001b[0m\u001b[0mkey\u001b[0m\u001b[1;33m,\u001b[0m \u001b[0mstr\u001b[0m\u001b[1;33m)\u001b[0m\u001b[1;33m:\u001b[0m\u001b[1;33m\u001b[0m\u001b[1;33m\u001b[0m\u001b[0m\n",
      "\u001b[1;31mValueError\u001b[0m: Specifying the columns using strings is only supported for pandas DataFrames"
     ]
    }
   ],
   "source": [
    "cf.fit(X1)"
   ]
  },
  {
   "cell_type": "code",
   "execution_count": null,
   "metadata": {},
   "outputs": [],
   "source": []
  }
 ],
 "metadata": {
  "environment": {
   "name": "common-cpu.m54",
   "type": "gcloud",
   "uri": "gcr.io/deeplearning-platform-release/base-cpu:m54"
  },
  "kernelspec": {
   "display_name": "Python 3",
   "language": "python",
   "name": "python3"
  },
  "language_info": {
   "codemirror_mode": {
    "name": "ipython",
    "version": 3
   },
   "file_extension": ".py",
   "mimetype": "text/x-python",
   "name": "python",
   "nbconvert_exporter": "python",
   "pygments_lexer": "ipython3",
   "version": "3.7.9-final"
  }
 },
 "nbformat": 4,
 "nbformat_minor": 4
}